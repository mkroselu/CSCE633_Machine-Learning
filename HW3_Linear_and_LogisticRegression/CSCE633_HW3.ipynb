{
 "cells": [
  {
   "cell_type": "markdown",
   "id": "8ae2d3cd",
   "metadata": {},
   "source": [
    "# HW3 - Logistic Regression"
   ]
  },
  {
   "cell_type": "markdown",
   "id": "397b10ef",
   "metadata": {},
   "source": [
    "## (i) Linear regression implementation"
   ]
  },
  {
   "cell_type": "code",
   "execution_count": 1,
   "id": "c9f00871",
   "metadata": {},
   "outputs": [],
   "source": [
    "import pandas as pd \n",
    "from sklearn.linear_model import LogisticRegression, Ridge, Lasso\n",
    "from sklearn.model_selection import train_test_split, GridSearchCV, cross_val_score, StratifiedKFold\n",
    "from sklearn.linear_model import LinearRegression\n",
    "from sklearn.metrics import mean_squared_error, accuracy_score, roc_auc_score\n",
    "import matplotlib.pyplot as plt\n",
    "plt.rcParams.update({'font.size': 18})\n",
    "import numpy as np "
   ]
  },
  {
   "cell_type": "markdown",
   "id": "67ecf449",
   "metadata": {},
   "source": [
    "Download, read and print the data"
   ]
  },
  {
   "cell_type": "code",
   "execution_count": 2,
   "id": "a07c5f73",
   "metadata": {},
   "outputs": [
    {
     "name": "stdout",
     "output_type": "stream",
     "text": [
      "Training Dataset\n",
      "      x          y\n",
      "0  24.0  21.549452\n",
      "1  50.0  47.464463\n",
      "2  15.0  17.218656\n",
      "3  38.0  36.586398\n",
      "4  87.0  87.288984\n",
      "Test Dataset\n",
      "    x          y\n",
      "0  77  79.775152\n",
      "1  21  23.177279\n",
      "2  22  25.609262\n",
      "3  20  17.857388\n",
      "4  36  41.849864\n"
     ]
    }
   ],
   "source": [
    "train = pd.read_csv('train.csv')\n",
    "test = pd.read_csv('test.csv')\n",
    "\n",
    "print('Training Dataset')\n",
    "print(train.head())\n",
    "print('Test Dataset')\n",
    "print(test.head())"
   ]
  },
  {
   "cell_type": "markdown",
   "id": "92ef6487",
   "metadata": {},
   "source": [
    "Prepare input data and label (remove NaN samples)"
   ]
  },
  {
   "cell_type": "code",
   "execution_count": 3,
   "id": "88a0e0e6",
   "metadata": {},
   "outputs": [
    {
     "name": "stdout",
     "output_type": "stream",
     "text": [
      "x    0\n",
      "y    1\n",
      "dtype: int64\n",
      "x    0\n",
      "y    0\n",
      "dtype: int64\n"
     ]
    }
   ],
   "source": [
    "print(train.isna().sum()) # One NaN value in training set.  \n",
    "print(test.isna().sum()) # No NaN value in testing set. \n",
    "train.dropna(inplace=True)"
   ]
  },
  {
   "cell_type": "markdown",
   "id": "13e6884e",
   "metadata": {},
   "source": [
    "Implement LinearRegression class. There are four functions in this class: init\n",
    "(initialization, you don’t need to work on this), fit(), update weights(), and predict(). You need to decide\n",
    "what variables should be passed to each function, and finish the rest three functions."
   ]
  },
  {
   "cell_type": "code",
   "execution_count": 4,
   "id": "6caf0023",
   "metadata": {},
   "outputs": [],
   "source": [
    "class LinearRegression:\n",
    "    def __init__(self):\n",
    "        self.weights = None\n",
    "        self.bias = None\n",
    "\n",
    "    def fit(self, X, y, learning_rate=0.2, num_iterations=1000):\n",
    "        n_samples, n_features = X.shape\n",
    "        self.weights = np.zeros(n_features)\n",
    "        self.bias = 0\n",
    "\n",
    "        for i in range(num_iterations):\n",
    "            # make predictions\n",
    "            y_predicted = self.predict(X)\n",
    "\n",
    "            # calculate gradients\n",
    "            dw = (1 / n_samples) * np.dot(X.T, (y_predicted - y))\n",
    "            db = (1 / n_samples) * np.sum(y_predicted - y)\n",
    "\n",
    "            # update weights\n",
    "            self.weights -= learning_rate * dw\n",
    "            self.bias -= learning_rate * db\n",
    "\n",
    "    def update_weights(self, X, y, learning_rate):\n",
    "        n_samples, n_features = X.shape\n",
    "        y_predicted = self.predict(X)\n",
    "\n",
    "        # calculate gradients\n",
    "        dw = (1 / n_samples) * np.dot(X.T, (y_predicted - y))\n",
    "        db = (1 / n_samples) * np.sum(y_predicted - y)\n",
    "\n",
    "        # update weights\n",
    "        self.weights -= learning_rate * dw\n",
    "        self.bias -= learning_rate * db\n",
    "\n",
    "    def predict(self, X):\n",
    "        y_predicted = np.dot(X, self.weights) + self.bias\n",
    "        return y_predicted"
   ]
  },
  {
   "cell_type": "markdown",
   "id": "8c3afcb0",
   "metadata": {},
   "source": [
    "Build your model and train with training set"
   ]
  },
  {
   "cell_type": "code",
   "execution_count": 35,
   "id": "03ac7a4a",
   "metadata": {
    "scrolled": true
   },
   "outputs": [
    {
     "data": {
      "text/html": [
       "<style>#sk-container-id-1 {color: black;background-color: white;}#sk-container-id-1 pre{padding: 0;}#sk-container-id-1 div.sk-toggleable {background-color: white;}#sk-container-id-1 label.sk-toggleable__label {cursor: pointer;display: block;width: 100%;margin-bottom: 0;padding: 0.3em;box-sizing: border-box;text-align: center;}#sk-container-id-1 label.sk-toggleable__label-arrow:before {content: \"▸\";float: left;margin-right: 0.25em;color: #696969;}#sk-container-id-1 label.sk-toggleable__label-arrow:hover:before {color: black;}#sk-container-id-1 div.sk-estimator:hover label.sk-toggleable__label-arrow:before {color: black;}#sk-container-id-1 div.sk-toggleable__content {max-height: 0;max-width: 0;overflow: hidden;text-align: left;background-color: #f0f8ff;}#sk-container-id-1 div.sk-toggleable__content pre {margin: 0.2em;color: black;border-radius: 0.25em;background-color: #f0f8ff;}#sk-container-id-1 input.sk-toggleable__control:checked~div.sk-toggleable__content {max-height: 200px;max-width: 100%;overflow: auto;}#sk-container-id-1 input.sk-toggleable__control:checked~label.sk-toggleable__label-arrow:before {content: \"▾\";}#sk-container-id-1 div.sk-estimator input.sk-toggleable__control:checked~label.sk-toggleable__label {background-color: #d4ebff;}#sk-container-id-1 div.sk-label input.sk-toggleable__control:checked~label.sk-toggleable__label {background-color: #d4ebff;}#sk-container-id-1 input.sk-hidden--visually {border: 0;clip: rect(1px 1px 1px 1px);clip: rect(1px, 1px, 1px, 1px);height: 1px;margin: -1px;overflow: hidden;padding: 0;position: absolute;width: 1px;}#sk-container-id-1 div.sk-estimator {font-family: monospace;background-color: #f0f8ff;border: 1px dotted black;border-radius: 0.25em;box-sizing: border-box;margin-bottom: 0.5em;}#sk-container-id-1 div.sk-estimator:hover {background-color: #d4ebff;}#sk-container-id-1 div.sk-parallel-item::after {content: \"\";width: 100%;border-bottom: 1px solid gray;flex-grow: 1;}#sk-container-id-1 div.sk-label:hover label.sk-toggleable__label {background-color: #d4ebff;}#sk-container-id-1 div.sk-serial::before {content: \"\";position: absolute;border-left: 1px solid gray;box-sizing: border-box;top: 0;bottom: 0;left: 50%;z-index: 0;}#sk-container-id-1 div.sk-serial {display: flex;flex-direction: column;align-items: center;background-color: white;padding-right: 0.2em;padding-left: 0.2em;position: relative;}#sk-container-id-1 div.sk-item {position: relative;z-index: 1;}#sk-container-id-1 div.sk-parallel {display: flex;align-items: stretch;justify-content: center;background-color: white;position: relative;}#sk-container-id-1 div.sk-item::before, #sk-container-id-1 div.sk-parallel-item::before {content: \"\";position: absolute;border-left: 1px solid gray;box-sizing: border-box;top: 0;bottom: 0;left: 50%;z-index: -1;}#sk-container-id-1 div.sk-parallel-item {display: flex;flex-direction: column;z-index: 1;position: relative;background-color: white;}#sk-container-id-1 div.sk-parallel-item:first-child::after {align-self: flex-end;width: 50%;}#sk-container-id-1 div.sk-parallel-item:last-child::after {align-self: flex-start;width: 50%;}#sk-container-id-1 div.sk-parallel-item:only-child::after {width: 0;}#sk-container-id-1 div.sk-dashed-wrapped {border: 1px dashed gray;margin: 0 0.4em 0.5em 0.4em;box-sizing: border-box;padding-bottom: 0.4em;background-color: white;}#sk-container-id-1 div.sk-label label {font-family: monospace;font-weight: bold;display: inline-block;line-height: 1.2em;}#sk-container-id-1 div.sk-label-container {text-align: center;}#sk-container-id-1 div.sk-container {/* jupyter's `normalize.less` sets `[hidden] { display: none; }` but bootstrap.min.css set `[hidden] { display: none !important; }` so we also need the `!important` here to be able to override the default hidden behavior on the sphinx rendered scikit-learn.org. See: https://github.com/scikit-learn/scikit-learn/issues/21755 */display: inline-block !important;position: relative;}#sk-container-id-1 div.sk-text-repr-fallback {display: none;}</style><div id=\"sk-container-id-1\" class=\"sk-top-container\"><div class=\"sk-text-repr-fallback\"><pre>LinearRegression()</pre><b>In a Jupyter environment, please rerun this cell to show the HTML representation or trust the notebook. <br />On GitHub, the HTML representation is unable to render, please try loading this page with nbviewer.org.</b></div><div class=\"sk-container\" hidden><div class=\"sk-item\"><div class=\"sk-estimator sk-toggleable\"><input class=\"sk-toggleable__control sk-hidden--visually\" id=\"sk-estimator-id-1\" type=\"checkbox\" checked><label for=\"sk-estimator-id-1\" class=\"sk-toggleable__label sk-toggleable__label-arrow\">LinearRegression</label><div class=\"sk-toggleable__content\"><pre>LinearRegression()</pre></div></div></div></div></div>"
      ],
      "text/plain": [
       "LinearRegression()"
      ]
     },
     "execution_count": 35,
     "metadata": {},
     "output_type": "execute_result"
    }
   ],
   "source": [
    "# Split the dataset into training and testing sets\n",
    "from sklearn.linear_model import LinearRegression\n",
    "X_train = train['x'].values.reshape(-1, 1)\n",
    "X_test = test['x'].values.reshape(-1, 1)\n",
    "y_train = train['y']\n",
    "y_test = test['y']\n",
    "\n",
    "# Create an instance of the LinearRegression class\n",
    "linear = LinearRegression()\n",
    "\n",
    "# Train the model on the training set\n",
    "linear.fit(X_train, y_train)"
   ]
  },
  {
   "cell_type": "markdown",
   "id": "e1f4d534",
   "metadata": {},
   "source": [
    "Make predictions with test set"
   ]
  },
  {
   "cell_type": "code",
   "execution_count": 36,
   "id": "b2197296",
   "metadata": {},
   "outputs": [],
   "source": [
    "y_pred = linear.predict(X_test)"
   ]
  },
  {
   "cell_type": "markdown",
   "id": "27c50288",
   "metadata": {},
   "source": [
    "Calculate and print the mean square error of your prediction"
   ]
  },
  {
   "cell_type": "code",
   "execution_count": 37,
   "id": "deaa2c87",
   "metadata": {},
   "outputs": [
    {
     "data": {
      "text/plain": [
       "9.432922192039305"
      ]
     },
     "execution_count": 37,
     "metadata": {},
     "output_type": "execute_result"
    }
   ],
   "source": [
    "from sklearn.metrics import mean_squared_error\n",
    "\n",
    "mean_squared_error(y_test,y_pred)"
   ]
  },
  {
   "cell_type": "markdown",
   "id": "d7da570e",
   "metadata": {},
   "source": [
    "Plot your prediction and labels. (You may use matplotlib package.)"
   ]
  },
  {
   "cell_type": "code",
   "execution_count": 38,
   "id": "3ba6592b",
   "metadata": {},
   "outputs": [
    {
     "data": {
      "image/png": "[encoded data removed]",
      "text/plain": [
       "<Figure size 640x480 with 1 Axes>"
      ]
     },
     "metadata": {},
     "output_type": "display_data"
    }
   ],
   "source": [
    "plt.scatter(X_train, y_train, color='blue')\n",
    "plt.plot(X_test, y_pred, color='red')\n",
    "plt.xlabel('X')\n",
    "plt.ylabel('y')\n",
    "plt.title('Linear Regression')\n",
    "plt.show()"
   ]
  },
  {
   "cell_type": "markdown",
   "id": "2f81187f",
   "metadata": {},
   "source": [
    "## (ii) Preprocessing the Data"
   ]
  },
  {
   "cell_type": "markdown",
   "id": "00776c9f",
   "metadata": {},
   "source": [
    "Download, read and print the data"
   ]
  },
  {
   "cell_type": "code",
   "execution_count": 10,
   "id": "da9c43a6",
   "metadata": {},
   "outputs": [
    {
     "name": "stdout",
     "output_type": "stream",
     "text": [
      "              Player  AtBat  Hits  HmRun  Runs  RBI  Walks  Years  CAtBat  \\\n",
      "0     -Andy Allanson    293    66      1    30   29     14      1     293   \n",
      "1        -Alan Ashby    315    81      7    24   38     39     14    3449   \n",
      "2       -Alvin Davis    479   130     18    66   72     76      3    1624   \n",
      "3      -Andre Dawson    496   141     20    65   78     37     11    5628   \n",
      "4  -Andres Galarraga    321    87     10    39   42     30      2     396   \n",
      "\n",
      "   CHits  ...  CRuns  CRBI  CWalks  League Division PutOuts  Assists  Errors  \\\n",
      "0     66  ...     30    29      14       A        E     446       33      20   \n",
      "1    835  ...    321   414     375       N        W     632       43      10   \n",
      "2    457  ...    224   266     263       A        W     880       82      14   \n",
      "3   1575  ...    828   838     354       N        E     200       11       3   \n",
      "4    101  ...     48    46      33       N        E     805       40       4   \n",
      "\n",
      "   Salary  NewLeague  \n",
      "0     NaN          A  \n",
      "1   475.0          N  \n",
      "2   480.0          A  \n",
      "3   500.0          N  \n",
      "4    91.5          N  \n",
      "\n",
      "[5 rows x 21 columns]\n"
     ]
    }
   ],
   "source": [
    "df = pd.read_csv('Hitters.csv')\n",
    "print (df.head())"
   ]
  },
  {
   "cell_type": "markdown",
   "id": "7ad49b40",
   "metadata": {},
   "source": [
    "Print the shape of the data. Shape means the dimensions of the data.\n",
    "\n",
    "Ans: There are 322 rows and 21 columns in the dataframe. "
   ]
  },
  {
   "cell_type": "code",
   "execution_count": 11,
   "id": "1c519589",
   "metadata": {},
   "outputs": [
    {
     "data": {
      "text/plain": [
       "(322, 21)"
      ]
     },
     "execution_count": 11,
     "metadata": {},
     "output_type": "execute_result"
    }
   ],
   "source": [
    "df.shape"
   ]
  },
  {
   "cell_type": "markdown",
   "id": "82558119",
   "metadata": {},
   "source": [
    "Does the data have any missing values? How many are missing?\n",
    "\n",
    "**Ans**: There are **59** missing values in the **salary** column. "
   ]
  },
  {
   "cell_type": "code",
   "execution_count": 12,
   "id": "dc1180d9",
   "metadata": {},
   "outputs": [
    {
     "name": "stdout",
     "output_type": "stream",
     "text": [
      "Player        0\n",
      "AtBat         0\n",
      "Hits          0\n",
      "HmRun         0\n",
      "Runs          0\n",
      "RBI           0\n",
      "Walks         0\n",
      "Years         0\n",
      "CAtBat        0\n",
      "CHits         0\n",
      "CHmRun        0\n",
      "CRuns         0\n",
      "CRBI          0\n",
      "CWalks        0\n",
      "League        0\n",
      "Division      0\n",
      "PutOuts       0\n",
      "Assists       0\n",
      "Errors        0\n",
      "Salary       59\n",
      "NewLeague     0\n",
      "dtype: int64\n"
     ]
    }
   ],
   "source": [
    "print(df.isna().sum())"
   ]
  },
  {
   "cell_type": "markdown",
   "id": "efd17d97",
   "metadata": {},
   "source": [
    "Drop all the rows with any missing data. (In pandas, check out dropna(). dropna()\n",
    "accepts an argument inplace.)"
   ]
  },
  {
   "cell_type": "code",
   "execution_count": 13,
   "id": "8e89e778",
   "metadata": {},
   "outputs": [],
   "source": [
    "df.dropna(inplace=True)"
   ]
  },
  {
   "cell_type": "code",
   "execution_count": 14,
   "id": "2af07064",
   "metadata": {},
   "outputs": [
    {
     "data": {
      "text/plain": [
       "(263, 21)"
      ]
     },
     "execution_count": 14,
     "metadata": {},
     "output_type": "execute_result"
    }
   ],
   "source": [
    "df.shape"
   ]
  },
  {
   "cell_type": "markdown",
   "id": "9d462918",
   "metadata": {},
   "source": [
    "Extract the features and the label from the data. Our label is NewLeague and all the\n",
    "others are considered features."
   ]
  },
  {
   "cell_type": "code",
   "execution_count": 15,
   "id": "acbba5a6",
   "metadata": {},
   "outputs": [],
   "source": [
    "X = df[['AtBat','Hits','HmRun','Runs','RBI','Walks','Years','CAtBat','CHits','CHmRun','CRuns','CRBI','CWalks','League','Division','PutOuts','Assists','Errors','Salary']]\n",
    "y = df[['NewLeague']]"
   ]
  },
  {
   "cell_type": "markdown",
   "id": "61bdde0c",
   "metadata": {},
   "source": [
    "Data preprocessing. We want to do one-hot encoding for categorical features. To\n",
    "do so, we first need to separate numerical columns from nonnumerical columns."
   ]
  },
  {
   "cell_type": "code",
   "execution_count": 16,
   "id": "d3c6083a",
   "metadata": {},
   "outputs": [],
   "source": [
    "X_cat = X.select_dtypes(exclude=['int64', 'float64'])                                                                                                         \n",
    "X_dog = X.select_dtypes(include=['int64', 'float64'])                                                                                                         \n",
    "                                                                                                                                                              \n",
    "X_cat = pd.get_dummies(X_cat)                                                                                                                                 \n",
    "X = pd.concat([X_cat, X_dog], axis=1)   "
   ]
  },
  {
   "cell_type": "code",
   "execution_count": 17,
   "id": "231c8c86",
   "metadata": {},
   "outputs": [
    {
     "data": {
      "text/html": [
       "<div>\n",
       "<style scoped>\n",
       "    .dataframe tbody tr th:only-of-type {\n",
       "        vertical-align: middle;\n",
       "    }\n",
       "\n",
       "    .dataframe tbody tr th {\n",
       "        vertical-align: top;\n",
       "    }\n",
       "\n",
       "    .dataframe thead th {\n",
       "        text-align: right;\n",
       "    }\n",
       "</style>\n",
       "<table border=\"1\" class=\"dataframe\">\n",
       "  <thead>\n",
       "    <tr style=\"text-align: right;\">\n",
       "      <th></th>\n",
       "      <th>League_A</th>\n",
       "      <th>League_N</th>\n",
       "      <th>Division_E</th>\n",
       "      <th>Division_W</th>\n",
       "      <th>AtBat</th>\n",
       "      <th>Hits</th>\n",
       "      <th>HmRun</th>\n",
       "      <th>Runs</th>\n",
       "      <th>RBI</th>\n",
       "      <th>Walks</th>\n",
       "      <th>...</th>\n",
       "      <th>CAtBat</th>\n",
       "      <th>CHits</th>\n",
       "      <th>CHmRun</th>\n",
       "      <th>CRuns</th>\n",
       "      <th>CRBI</th>\n",
       "      <th>CWalks</th>\n",
       "      <th>PutOuts</th>\n",
       "      <th>Assists</th>\n",
       "      <th>Errors</th>\n",
       "      <th>Salary</th>\n",
       "    </tr>\n",
       "  </thead>\n",
       "  <tbody>\n",
       "    <tr>\n",
       "      <th>1</th>\n",
       "      <td>0</td>\n",
       "      <td>1</td>\n",
       "      <td>0</td>\n",
       "      <td>1</td>\n",
       "      <td>315</td>\n",
       "      <td>81</td>\n",
       "      <td>7</td>\n",
       "      <td>24</td>\n",
       "      <td>38</td>\n",
       "      <td>39</td>\n",
       "      <td>...</td>\n",
       "      <td>3449</td>\n",
       "      <td>835</td>\n",
       "      <td>69</td>\n",
       "      <td>321</td>\n",
       "      <td>414</td>\n",
       "      <td>375</td>\n",
       "      <td>632</td>\n",
       "      <td>43</td>\n",
       "      <td>10</td>\n",
       "      <td>475.0</td>\n",
       "    </tr>\n",
       "    <tr>\n",
       "      <th>2</th>\n",
       "      <td>1</td>\n",
       "      <td>0</td>\n",
       "      <td>0</td>\n",
       "      <td>1</td>\n",
       "      <td>479</td>\n",
       "      <td>130</td>\n",
       "      <td>18</td>\n",
       "      <td>66</td>\n",
       "      <td>72</td>\n",
       "      <td>76</td>\n",
       "      <td>...</td>\n",
       "      <td>1624</td>\n",
       "      <td>457</td>\n",
       "      <td>63</td>\n",
       "      <td>224</td>\n",
       "      <td>266</td>\n",
       "      <td>263</td>\n",
       "      <td>880</td>\n",
       "      <td>82</td>\n",
       "      <td>14</td>\n",
       "      <td>480.0</td>\n",
       "    </tr>\n",
       "    <tr>\n",
       "      <th>3</th>\n",
       "      <td>0</td>\n",
       "      <td>1</td>\n",
       "      <td>1</td>\n",
       "      <td>0</td>\n",
       "      <td>496</td>\n",
       "      <td>141</td>\n",
       "      <td>20</td>\n",
       "      <td>65</td>\n",
       "      <td>78</td>\n",
       "      <td>37</td>\n",
       "      <td>...</td>\n",
       "      <td>5628</td>\n",
       "      <td>1575</td>\n",
       "      <td>225</td>\n",
       "      <td>828</td>\n",
       "      <td>838</td>\n",
       "      <td>354</td>\n",
       "      <td>200</td>\n",
       "      <td>11</td>\n",
       "      <td>3</td>\n",
       "      <td>500.0</td>\n",
       "    </tr>\n",
       "    <tr>\n",
       "      <th>4</th>\n",
       "      <td>0</td>\n",
       "      <td>1</td>\n",
       "      <td>1</td>\n",
       "      <td>0</td>\n",
       "      <td>321</td>\n",
       "      <td>87</td>\n",
       "      <td>10</td>\n",
       "      <td>39</td>\n",
       "      <td>42</td>\n",
       "      <td>30</td>\n",
       "      <td>...</td>\n",
       "      <td>396</td>\n",
       "      <td>101</td>\n",
       "      <td>12</td>\n",
       "      <td>48</td>\n",
       "      <td>46</td>\n",
       "      <td>33</td>\n",
       "      <td>805</td>\n",
       "      <td>40</td>\n",
       "      <td>4</td>\n",
       "      <td>91.5</td>\n",
       "    </tr>\n",
       "    <tr>\n",
       "      <th>5</th>\n",
       "      <td>1</td>\n",
       "      <td>0</td>\n",
       "      <td>0</td>\n",
       "      <td>1</td>\n",
       "      <td>594</td>\n",
       "      <td>169</td>\n",
       "      <td>4</td>\n",
       "      <td>74</td>\n",
       "      <td>51</td>\n",
       "      <td>35</td>\n",
       "      <td>...</td>\n",
       "      <td>4408</td>\n",
       "      <td>1133</td>\n",
       "      <td>19</td>\n",
       "      <td>501</td>\n",
       "      <td>336</td>\n",
       "      <td>194</td>\n",
       "      <td>282</td>\n",
       "      <td>421</td>\n",
       "      <td>25</td>\n",
       "      <td>750.0</td>\n",
       "    </tr>\n",
       "    <tr>\n",
       "      <th>...</th>\n",
       "      <td>...</td>\n",
       "      <td>...</td>\n",
       "      <td>...</td>\n",
       "      <td>...</td>\n",
       "      <td>...</td>\n",
       "      <td>...</td>\n",
       "      <td>...</td>\n",
       "      <td>...</td>\n",
       "      <td>...</td>\n",
       "      <td>...</td>\n",
       "      <td>...</td>\n",
       "      <td>...</td>\n",
       "      <td>...</td>\n",
       "      <td>...</td>\n",
       "      <td>...</td>\n",
       "      <td>...</td>\n",
       "      <td>...</td>\n",
       "      <td>...</td>\n",
       "      <td>...</td>\n",
       "      <td>...</td>\n",
       "      <td>...</td>\n",
       "    </tr>\n",
       "    <tr>\n",
       "      <th>317</th>\n",
       "      <td>0</td>\n",
       "      <td>1</td>\n",
       "      <td>1</td>\n",
       "      <td>0</td>\n",
       "      <td>497</td>\n",
       "      <td>127</td>\n",
       "      <td>7</td>\n",
       "      <td>65</td>\n",
       "      <td>48</td>\n",
       "      <td>37</td>\n",
       "      <td>...</td>\n",
       "      <td>2703</td>\n",
       "      <td>806</td>\n",
       "      <td>32</td>\n",
       "      <td>379</td>\n",
       "      <td>311</td>\n",
       "      <td>138</td>\n",
       "      <td>325</td>\n",
       "      <td>9</td>\n",
       "      <td>3</td>\n",
       "      <td>700.0</td>\n",
       "    </tr>\n",
       "    <tr>\n",
       "      <th>318</th>\n",
       "      <td>1</td>\n",
       "      <td>0</td>\n",
       "      <td>1</td>\n",
       "      <td>0</td>\n",
       "      <td>492</td>\n",
       "      <td>136</td>\n",
       "      <td>5</td>\n",
       "      <td>76</td>\n",
       "      <td>50</td>\n",
       "      <td>94</td>\n",
       "      <td>...</td>\n",
       "      <td>5511</td>\n",
       "      <td>1511</td>\n",
       "      <td>39</td>\n",
       "      <td>897</td>\n",
       "      <td>451</td>\n",
       "      <td>875</td>\n",
       "      <td>313</td>\n",
       "      <td>381</td>\n",
       "      <td>20</td>\n",
       "      <td>875.0</td>\n",
       "    </tr>\n",
       "    <tr>\n",
       "      <th>319</th>\n",
       "      <td>1</td>\n",
       "      <td>0</td>\n",
       "      <td>0</td>\n",
       "      <td>1</td>\n",
       "      <td>475</td>\n",
       "      <td>126</td>\n",
       "      <td>3</td>\n",
       "      <td>61</td>\n",
       "      <td>43</td>\n",
       "      <td>52</td>\n",
       "      <td>...</td>\n",
       "      <td>1700</td>\n",
       "      <td>433</td>\n",
       "      <td>7</td>\n",
       "      <td>217</td>\n",
       "      <td>93</td>\n",
       "      <td>146</td>\n",
       "      <td>37</td>\n",
       "      <td>113</td>\n",
       "      <td>7</td>\n",
       "      <td>385.0</td>\n",
       "    </tr>\n",
       "    <tr>\n",
       "      <th>320</th>\n",
       "      <td>1</td>\n",
       "      <td>0</td>\n",
       "      <td>1</td>\n",
       "      <td>0</td>\n",
       "      <td>573</td>\n",
       "      <td>144</td>\n",
       "      <td>9</td>\n",
       "      <td>85</td>\n",
       "      <td>60</td>\n",
       "      <td>78</td>\n",
       "      <td>...</td>\n",
       "      <td>3198</td>\n",
       "      <td>857</td>\n",
       "      <td>97</td>\n",
       "      <td>470</td>\n",
       "      <td>420</td>\n",
       "      <td>332</td>\n",
       "      <td>1314</td>\n",
       "      <td>131</td>\n",
       "      <td>12</td>\n",
       "      <td>960.0</td>\n",
       "    </tr>\n",
       "    <tr>\n",
       "      <th>321</th>\n",
       "      <td>1</td>\n",
       "      <td>0</td>\n",
       "      <td>0</td>\n",
       "      <td>1</td>\n",
       "      <td>631</td>\n",
       "      <td>170</td>\n",
       "      <td>9</td>\n",
       "      <td>77</td>\n",
       "      <td>44</td>\n",
       "      <td>31</td>\n",
       "      <td>...</td>\n",
       "      <td>4908</td>\n",
       "      <td>1457</td>\n",
       "      <td>30</td>\n",
       "      <td>775</td>\n",
       "      <td>357</td>\n",
       "      <td>249</td>\n",
       "      <td>408</td>\n",
       "      <td>4</td>\n",
       "      <td>3</td>\n",
       "      <td>1000.0</td>\n",
       "    </tr>\n",
       "  </tbody>\n",
       "</table>\n",
       "<p>263 rows × 21 columns</p>\n",
       "</div>"
      ],
      "text/plain": [
       "     League_A  League_N  Division_E  Division_W  AtBat  Hits  HmRun  Runs  \\\n",
       "1           0         1           0           1    315    81      7    24   \n",
       "2           1         0           0           1    479   130     18    66   \n",
       "3           0         1           1           0    496   141     20    65   \n",
       "4           0         1           1           0    321    87     10    39   \n",
       "5           1         0           0           1    594   169      4    74   \n",
       "..        ...       ...         ...         ...    ...   ...    ...   ...   \n",
       "317         0         1           1           0    497   127      7    65   \n",
       "318         1         0           1           0    492   136      5    76   \n",
       "319         1         0           0           1    475   126      3    61   \n",
       "320         1         0           1           0    573   144      9    85   \n",
       "321         1         0           0           1    631   170      9    77   \n",
       "\n",
       "     RBI  Walks  ...  CAtBat  CHits  CHmRun  CRuns  CRBI  CWalks  PutOuts  \\\n",
       "1     38     39  ...    3449    835      69    321   414     375      632   \n",
       "2     72     76  ...    1624    457      63    224   266     263      880   \n",
       "3     78     37  ...    5628   1575     225    828   838     354      200   \n",
       "4     42     30  ...     396    101      12     48    46      33      805   \n",
       "5     51     35  ...    4408   1133      19    501   336     194      282   \n",
       "..   ...    ...  ...     ...    ...     ...    ...   ...     ...      ...   \n",
       "317   48     37  ...    2703    806      32    379   311     138      325   \n",
       "318   50     94  ...    5511   1511      39    897   451     875      313   \n",
       "319   43     52  ...    1700    433       7    217    93     146       37   \n",
       "320   60     78  ...    3198    857      97    470   420     332     1314   \n",
       "321   44     31  ...    4908   1457      30    775   357     249      408   \n",
       "\n",
       "     Assists  Errors  Salary  \n",
       "1         43      10   475.0  \n",
       "2         82      14   480.0  \n",
       "3         11       3   500.0  \n",
       "4         40       4    91.5  \n",
       "5        421      25   750.0  \n",
       "..       ...     ...     ...  \n",
       "317        9       3   700.0  \n",
       "318      381      20   875.0  \n",
       "319      113       7   385.0  \n",
       "320      131      12   960.0  \n",
       "321        4       3  1000.0  \n",
       "\n",
       "[263 rows x 21 columns]"
      ]
     },
     "execution_count": 17,
     "metadata": {},
     "output_type": "execute_result"
    }
   ],
   "source": [
    "X"
   ]
  },
  {
   "cell_type": "markdown",
   "id": "492c1fa0",
   "metadata": {},
   "source": [
    "Transform the output into numerical format. If you have selected the label as a pandas\n",
    "series, you can use .replace() function. In the label, transform ’A’ to 0 and ’N’ to 1."
   ]
  },
  {
   "cell_type": "code",
   "execution_count": 18,
   "id": "186c42a2",
   "metadata": {},
   "outputs": [],
   "source": [
    "NewLeague2number_dict = {\n",
    "    'A':0,\n",
    "    'N':1\n",
    "}\n",
    "\n",
    "y = y.replace({\"NewLeague\": NewLeague2number_dict})"
   ]
  },
  {
   "cell_type": "code",
   "execution_count": 19,
   "id": "ff99f58a",
   "metadata": {},
   "outputs": [
    {
     "data": {
      "text/html": [
       "<div>\n",
       "<style scoped>\n",
       "    .dataframe tbody tr th:only-of-type {\n",
       "        vertical-align: middle;\n",
       "    }\n",
       "\n",
       "    .dataframe tbody tr th {\n",
       "        vertical-align: top;\n",
       "    }\n",
       "\n",
       "    .dataframe thead th {\n",
       "        text-align: right;\n",
       "    }\n",
       "</style>\n",
       "<table border=\"1\" class=\"dataframe\">\n",
       "  <thead>\n",
       "    <tr style=\"text-align: right;\">\n",
       "      <th></th>\n",
       "      <th>NewLeague</th>\n",
       "    </tr>\n",
       "  </thead>\n",
       "  <tbody>\n",
       "    <tr>\n",
       "      <th>1</th>\n",
       "      <td>1</td>\n",
       "    </tr>\n",
       "    <tr>\n",
       "      <th>2</th>\n",
       "      <td>0</td>\n",
       "    </tr>\n",
       "    <tr>\n",
       "      <th>3</th>\n",
       "      <td>1</td>\n",
       "    </tr>\n",
       "    <tr>\n",
       "      <th>4</th>\n",
       "      <td>1</td>\n",
       "    </tr>\n",
       "    <tr>\n",
       "      <th>5</th>\n",
       "      <td>0</td>\n",
       "    </tr>\n",
       "    <tr>\n",
       "      <th>...</th>\n",
       "      <td>...</td>\n",
       "    </tr>\n",
       "    <tr>\n",
       "      <th>317</th>\n",
       "      <td>1</td>\n",
       "    </tr>\n",
       "    <tr>\n",
       "      <th>318</th>\n",
       "      <td>0</td>\n",
       "    </tr>\n",
       "    <tr>\n",
       "      <th>319</th>\n",
       "      <td>0</td>\n",
       "    </tr>\n",
       "    <tr>\n",
       "      <th>320</th>\n",
       "      <td>0</td>\n",
       "    </tr>\n",
       "    <tr>\n",
       "      <th>321</th>\n",
       "      <td>0</td>\n",
       "    </tr>\n",
       "  </tbody>\n",
       "</table>\n",
       "<p>263 rows × 1 columns</p>\n",
       "</div>"
      ],
      "text/plain": [
       "     NewLeague\n",
       "1            1\n",
       "2            0\n",
       "3            1\n",
       "4            1\n",
       "5            0\n",
       "..         ...\n",
       "317          1\n",
       "318          0\n",
       "319          0\n",
       "320          0\n",
       "321          0\n",
       "\n",
       "[263 rows x 1 columns]"
      ]
     },
     "execution_count": 19,
     "metadata": {},
     "output_type": "execute_result"
    }
   ],
   "source": [
    "y"
   ]
  },
  {
   "cell_type": "markdown",
   "id": "d9fa51cd",
   "metadata": {},
   "source": [
    "## (iii) Models for Hitters"
   ]
  },
  {
   "cell_type": "markdown",
   "id": "a2f22165",
   "metadata": {},
   "source": [
    "Prediction: Using 80% of the data as a training set and 20% as a testing set, please train a linear regression model and a logistic regression model."
   ]
  },
  {
   "cell_type": "code",
   "execution_count": 23,
   "id": "cd2200e0",
   "metadata": {},
   "outputs": [
    {
     "name": "stdout",
     "output_type": "stream",
     "text": [
      "Linear regression MSE: 0.07164936626567002\n",
      "Logistic regression accuracy: 0.6415094339622641\n"
     ]
    },
    {
     "name": "stderr",
     "output_type": "stream",
     "text": [
      "C:\\Users\\MEI-KUEI LU\\anaconda3\\envs\\test\\lib\\site-packages\\sklearn\\utils\\validation.py:1141: DataConversionWarning: A column-vector y was passed when a 1d array was expected. Please change the shape of y to (n_samples, ), for example using ravel().\n",
      "  y = column_or_1d(y, warn=True)\n",
      "C:\\Users\\MEI-KUEI LU\\anaconda3\\envs\\test\\lib\\site-packages\\sklearn\\linear_model\\_logistic.py:458: ConvergenceWarning: lbfgs failed to converge (status=1):\n",
      "STOP: TOTAL NO. of ITERATIONS REACHED LIMIT.\n",
      "\n",
      "Increase the number of iterations (max_iter) or scale the data as shown in:\n",
      "    https://scikit-learn.org/stable/modules/preprocessing.html\n",
      "Please also refer to the documentation for alternative solver options:\n",
      "    https://scikit-learn.org/stable/modules/linear_model.html#logistic-regression\n",
      "  n_iter_i = _check_optimize_result(\n"
     ]
    }
   ],
   "source": [
    "from sklearn.linear_model import LinearRegression\n",
    "\n",
    "# Split the data into training and testing sets\n",
    "X_train, X_test, y_train, y_test = train_test_split(X, y, test_size=0.2)\n",
    "\n",
    "# Train a linear regression model\n",
    "linear = LinearRegression()\n",
    "linear.fit(X_train, y_train)\n",
    "y_pred_linear = linear.predict(X_test)\n",
    "mse_linear = mean_squared_error(y_test, y_pred_linear)\n",
    "print('Linear regression MSE:', mse_linear)\n",
    "\n",
    "# Train a logistic regression model\n",
    "logistic = LogisticRegression()\n",
    "logistic.fit(X_train, y_train)\n",
    "y_pred_logistic = logistic.predict(X_test)\n",
    "acc_logistic = accuracy_score(y_test, y_pred_logistic)\n",
    "print('Logistic regression accuracy:', acc_logistic)"
   ]
  },
  {
   "cell_type": "markdown",
   "id": "2c21cb77",
   "metadata": {},
   "source": [
    "Please provide the coefficients for each feature for both models. Are they the same? Are they different? Why?\n",
    "\n",
    "**Ans**: In linear regression, the coefficients represent the slope of the line that best fits the data, while in logistic regression, the coefficients represent the change in the log-odds of the target variable for a unit change in the corresponding feature, so the coefficients for the two models will be different."
   ]
  },
  {
   "cell_type": "code",
   "execution_count": 24,
   "id": "b33a9232",
   "metadata": {},
   "outputs": [
    {
     "name": "stdout",
     "output_type": "stream",
     "text": [
      "Coefficients for Linear Regression model:\n",
      "[[-4.31116520e-01  4.31116520e-01 -1.36886978e-02  1.36886978e-02\n",
      "   6.05168251e-04 -1.24388752e-03 -1.62483463e-03 -6.97290499e-04\n",
      "  -4.67570745e-04  1.72875437e-03 -1.28078634e-03 -1.05089724e-05\n",
      "   3.48931710e-04  2.44242493e-04 -2.37321444e-04 -2.90052147e-04\n",
      "  -1.78688180e-04  2.00718538e-05 -7.80038713e-05 -3.18816107e-03\n",
      "  -1.38474042e-05]]\n",
      "\n",
      "Coefficients for Logistic Regression model:\n",
      "[[-1.18659613e-02  1.17359417e-02 -6.18338547e-05 -6.81857633e-05\n",
      "   4.00526560e-03 -1.15811515e-02 -1.13562829e-02 -2.03572076e-02\n",
      "  -8.13601922e-03  2.14970276e-02 -3.67601738e-03 -4.94823764e-04\n",
      "   5.77198131e-03  5.39818283e-04 -7.11294902e-03 -1.13517292e-03\n",
      "  -2.49039714e-04  6.39699459e-04 -6.26290221e-04  6.29349386e-03\n",
      "   4.77321583e-04]]\n"
     ]
    }
   ],
   "source": [
    "linear_reg_coefs = linear.coef_\n",
    "log_reg_coefs = logistic.coef_\n",
    "\n",
    "print(f\"Coefficients for Linear Regression model:\\n{linear_reg_coefs}\\n\")\n",
    "print(f\"Coefficients for Logistic Regression model:\\n{log_reg_coefs}\")"
   ]
  },
  {
   "cell_type": "markdown",
   "id": "cb164477",
   "metadata": {},
   "source": [
    "Please plot the ROC curve for both models. What are the area under the curve measurements?\n",
    "\n",
    "**Ans**: AUC for logistic regression and linear regression is 0.58 and 0.92 respectively. "
   ]
  },
  {
   "cell_type": "code",
   "execution_count": 25,
   "id": "046b7615",
   "metadata": {},
   "outputs": [
    {
     "data": {
      "image/png": "[encoded data removed]",
      "text/plain": [
       "<Figure size 640x480 with 1 Axes>"
      ]
     },
     "metadata": {},
     "output_type": "display_data"
    }
   ],
   "source": [
    "from sklearn.metrics import roc_curve, auc\n",
    "\n",
    "# Compute the predicted probabilities for the test set for logistic regression \n",
    "y_pred_log = logistic.predict_proba(X_test)[:, 1]\n",
    "\n",
    "# Compute the false positive rate, true positive rate, and thresholds for both models\n",
    "fpr_log, tpr_log, thresholds_log = roc_curve(y_test, y_pred_log)\n",
    "fpr_lnr, tpr_lnr, thresholds_lnr = roc_curve(y_test, y_pred_linear)\n",
    "\n",
    "# Calculate area under the curve for both models \n",
    "roc_auc_log = auc(fpr_log, tpr_log)\n",
    "roc_auc_lnr = auc(fpr_lnr, tpr_lnr)\n",
    "\n",
    "# Plot the ROC curve for the logistic regression model\n",
    "plt.plot(fpr_log, tpr_log, color='darkorange', lw=2, label='Logistic Regression (AUC = %0.2f)' % roc_auc_log)\n",
    "\n",
    "# Plot the ROC curve for the linear regression model\n",
    "plt.plot(fpr_lnr, tpr_lnr, color='forestgreen', lw=2, label='Linear Regression (AUC = %0.2f)' % roc_auc_lnr)\n",
    "\n",
    "# Plot the diagonal (random guess)\n",
    "plt.plot([0, 1], [0, 1], color='gray', lw=2, linestyle='--')\n",
    "\n",
    "# Set the plot limits and labels\n",
    "plt.xlim([0.0, 1.0])\n",
    "plt.ylim([0.0, 1.05])\n",
    "plt.xlabel('False Positive Rate')\n",
    "plt.ylabel('True Positive Rate')\n",
    "plt.title('ROC Curve')\n",
    "plt.legend(loc=\"lower right\", fontsize=12)\n",
    "\n",
    "# Show the plot\n",
    "plt.show()"
   ]
  },
  {
   "cell_type": "markdown",
   "id": "3164bef7",
   "metadata": {},
   "source": [
    "What is the optimal decision threshold to maximize the f1 score?\n",
    "\n",
    "**Ans**: The optimal decision threshold to maximize the f1 score for **Logistic Regression** is **0**. However, since the F1 score is a metric used to evaluate the performance of binary classification models and linear regression is not a binary classification model, there is no threshold or binary decision to be made, and the F1 score is not applicable to this type of model."
   ]
  },
  {
   "cell_type": "code",
   "execution_count": 26,
   "id": "b18adeb8",
   "metadata": {},
   "outputs": [
    {
     "name": "stdout",
     "output_type": "stream",
     "text": [
      "Optimal decision threshold: 0.00\n",
      "Max F1 score: 0.641\n"
     ]
    }
   ],
   "source": [
    "from sklearn.metrics import f1_score\n",
    "\n",
    "# Predict probabilities for the test set\n",
    "y_pred_log = logistic.predict_proba(X_test)[:, 1]\n",
    "\n",
    "# Create a list of threshold values to try\n",
    "thresholds = np.arange(0, 1.01, 0.01)\n",
    "\n",
    "# Initialize variables to keep track of the optimal threshold and F1 score\n",
    "optimal_threshold = 0\n",
    "max_f1_score = 0\n",
    "\n",
    "# Loop over each threshold value and calculate the F1 score\n",
    "for threshold in thresholds:\n",
    "    y_pred = (y_pred_logistic >= threshold).astype(int)\n",
    "    f1 = f1_score(y_test, y_pred)\n",
    "    \n",
    "    # Update optimal threshold and max F1 score if a better F1 score is found\n",
    "    if f1 > max_f1_score:\n",
    "        optimal_threshold = threshold\n",
    "        max_f1_score = f1\n",
    "\n",
    "print(f\"Optimal decision threshold: {optimal_threshold:.2f}\")\n",
    "print(f\"Max F1 score: {max_f1_score:.3f}\")"
   ]
  },
  {
   "cell_type": "markdown",
   "id": "1f0d2593",
   "metadata": {},
   "source": [
    "Five-fold Cross-validation: Repeat (1) using a stratified, five-fold cross-validation."
   ]
  },
  {
   "cell_type": "code",
   "execution_count": 27,
   "id": "eaff2e13",
   "metadata": {},
   "outputs": [
    {
     "name": "stdout",
     "output_type": "stream",
     "text": [
      "{'log_reg': 0.123, 'lnr_reg': 0.19257142857142856}\n",
      "{'log_reg': 0.24857142857142858, 'lnr_reg': 0.36257142857142854}\n",
      "{'log_reg': 0.34339901477832513, 'lnr_reg': 0.5298128078817734}\n",
      "{'log_reg': 0.4499466338259442, 'lnr_reg': 0.7277294745484402}\n",
      "{'log_reg': 0.5761371100164204, 'lnr_reg': 0.9155270935960592}\n"
     ]
    },
    {
     "name": "stderr",
     "output_type": "stream",
     "text": [
      "C:\\Users\\MEI-KUEI LU\\anaconda3\\envs\\test\\lib\\site-packages\\sklearn\\linear_model\\_logistic.py:458: ConvergenceWarning: lbfgs failed to converge (status=1):\n",
      "STOP: TOTAL NO. of ITERATIONS REACHED LIMIT.\n",
      "\n",
      "Increase the number of iterations (max_iter) or scale the data as shown in:\n",
      "    https://scikit-learn.org/stable/modules/preprocessing.html\n",
      "Please also refer to the documentation for alternative solver options:\n",
      "    https://scikit-learn.org/stable/modules/linear_model.html#logistic-regression\n",
      "  n_iter_i = _check_optimize_result(\n",
      "C:\\Users\\MEI-KUEI LU\\anaconda3\\envs\\test\\lib\\site-packages\\sklearn\\linear_model\\_logistic.py:458: ConvergenceWarning: lbfgs failed to converge (status=1):\n",
      "STOP: TOTAL NO. of ITERATIONS REACHED LIMIT.\n",
      "\n",
      "Increase the number of iterations (max_iter) or scale the data as shown in:\n",
      "    https://scikit-learn.org/stable/modules/preprocessing.html\n",
      "Please also refer to the documentation for alternative solver options:\n",
      "    https://scikit-learn.org/stable/modules/linear_model.html#logistic-regression\n",
      "  n_iter_i = _check_optimize_result(\n",
      "C:\\Users\\MEI-KUEI LU\\anaconda3\\envs\\test\\lib\\site-packages\\sklearn\\linear_model\\_logistic.py:458: ConvergenceWarning: lbfgs failed to converge (status=1):\n",
      "STOP: TOTAL NO. of ITERATIONS REACHED LIMIT.\n",
      "\n",
      "Increase the number of iterations (max_iter) or scale the data as shown in:\n",
      "    https://scikit-learn.org/stable/modules/preprocessing.html\n",
      "Please also refer to the documentation for alternative solver options:\n",
      "    https://scikit-learn.org/stable/modules/linear_model.html#logistic-regression\n",
      "  n_iter_i = _check_optimize_result(\n",
      "C:\\Users\\MEI-KUEI LU\\anaconda3\\envs\\test\\lib\\site-packages\\sklearn\\linear_model\\_logistic.py:458: ConvergenceWarning: lbfgs failed to converge (status=1):\n",
      "STOP: TOTAL NO. of ITERATIONS REACHED LIMIT.\n",
      "\n",
      "Increase the number of iterations (max_iter) or scale the data as shown in:\n",
      "    https://scikit-learn.org/stable/modules/preprocessing.html\n",
      "Please also refer to the documentation for alternative solver options:\n",
      "    https://scikit-learn.org/stable/modules/linear_model.html#logistic-regression\n",
      "  n_iter_i = _check_optimize_result(\n",
      "C:\\Users\\MEI-KUEI LU\\anaconda3\\envs\\test\\lib\\site-packages\\sklearn\\linear_model\\_logistic.py:458: ConvergenceWarning: lbfgs failed to converge (status=1):\n",
      "STOP: TOTAL NO. of ITERATIONS REACHED LIMIT.\n",
      "\n",
      "Increase the number of iterations (max_iter) or scale the data as shown in:\n",
      "    https://scikit-learn.org/stable/modules/preprocessing.html\n",
      "Please also refer to the documentation for alternative solver options:\n",
      "    https://scikit-learn.org/stable/modules/linear_model.html#logistic-regression\n",
      "  n_iter_i = _check_optimize_result(\n"
     ]
    }
   ],
   "source": [
    "num_of_folds = 5\n",
    "\n",
    "auc_dict = {'log_reg': 0,  'lnr_reg': 0}\n",
    "\n",
    "skf = StratifiedKFold(n_splits = num_of_folds, shuffle = True)\n",
    "for train_index, test_index in skf.split(X, y):\n",
    "    X_train, X_test = X.iloc[train_index], X.iloc[test_index]\n",
    "    y_train, y_test = y.iloc[train_index].values.ravel(), y.iloc[test_index].values.ravel()\n",
    "\n",
    "    log_regressor = LogisticRegression() \n",
    "    log_regressor.fit(X_train, y_train)\n",
    "    y_pred_log = log_regressor.predict(X_test)\n",
    "    \n",
    "    lnr_regressor = LinearRegression()\n",
    "    lnr_regressor.fit(X_train, y_train)\n",
    "    y_pred_lnr = lnr_regressor.predict(X_test)\n",
    "    \n",
    "    auc_dict['log_reg'] += roc_auc_score(y_test, y_pred_log)/num_of_folds\n",
    "    auc_dict['lnr_reg'] += roc_auc_score(y_test, y_pred_lnr)/num_of_folds\n",
    "    print(auc_dict)"
   ]
  },
  {
   "cell_type": "markdown",
   "id": "c4da021d",
   "metadata": {},
   "source": [
    "Do the features change in each fold?\n",
    "\n",
    "**Ans**: In k-fold cross-validation, the data is split into k equal-sized folds. Each fold is used once as a validation set while the k-1 remaining folds are used for training the model. Therefore, in each fold, the training set and validation set are different, but the entire dataset and its features remain the same throughout the cross-validation process."
   ]
  },
  {
   "cell_type": "markdown",
   "id": "623b06dd",
   "metadata": {},
   "source": [
    "Please provide a mean and 95% confidence interval for the AUROCs for each model."
   ]
  },
  {
   "cell_type": "code",
   "execution_count": 28,
   "id": "ca0c44f7",
   "metadata": {},
   "outputs": [
    {
     "name": "stdout",
     "output_type": "stream",
     "text": [
      "Mean AUROC for Logistic Regressoin: 0.589\n",
      "95% CI for Logistic Regressoin: [0.523, 0.720]\n",
      "\n",
      "Mean AUROC for Linear Regressoin: 0.930\n",
      "95% CI for Linear Regressoin: [0.911, 0.950]\n",
      "\n"
     ]
    },
    {
     "name": "stderr",
     "output_type": "stream",
     "text": [
      "C:\\Users\\MEI-KUEI LU\\anaconda3\\envs\\test\\lib\\site-packages\\sklearn\\utils\\validation.py:1141: DataConversionWarning: A column-vector y was passed when a 1d array was expected. Please change the shape of y to (n_samples, ), for example using ravel().\n",
      "  y = column_or_1d(y, warn=True)\n",
      "C:\\Users\\MEI-KUEI LU\\anaconda3\\envs\\test\\lib\\site-packages\\sklearn\\linear_model\\_logistic.py:458: ConvergenceWarning: lbfgs failed to converge (status=1):\n",
      "STOP: TOTAL NO. of ITERATIONS REACHED LIMIT.\n",
      "\n",
      "Increase the number of iterations (max_iter) or scale the data as shown in:\n",
      "    https://scikit-learn.org/stable/modules/preprocessing.html\n",
      "Please also refer to the documentation for alternative solver options:\n",
      "    https://scikit-learn.org/stable/modules/linear_model.html#logistic-regression\n",
      "  n_iter_i = _check_optimize_result(\n",
      "C:\\Users\\MEI-KUEI LU\\anaconda3\\envs\\test\\lib\\site-packages\\sklearn\\utils\\validation.py:1141: DataConversionWarning: A column-vector y was passed when a 1d array was expected. Please change the shape of y to (n_samples, ), for example using ravel().\n",
      "  y = column_or_1d(y, warn=True)\n",
      "C:\\Users\\MEI-KUEI LU\\anaconda3\\envs\\test\\lib\\site-packages\\sklearn\\linear_model\\_logistic.py:458: ConvergenceWarning: lbfgs failed to converge (status=1):\n",
      "STOP: TOTAL NO. of ITERATIONS REACHED LIMIT.\n",
      "\n",
      "Increase the number of iterations (max_iter) or scale the data as shown in:\n",
      "    https://scikit-learn.org/stable/modules/preprocessing.html\n",
      "Please also refer to the documentation for alternative solver options:\n",
      "    https://scikit-learn.org/stable/modules/linear_model.html#logistic-regression\n",
      "  n_iter_i = _check_optimize_result(\n",
      "C:\\Users\\MEI-KUEI LU\\anaconda3\\envs\\test\\lib\\site-packages\\sklearn\\utils\\validation.py:1141: DataConversionWarning: A column-vector y was passed when a 1d array was expected. Please change the shape of y to (n_samples, ), for example using ravel().\n",
      "  y = column_or_1d(y, warn=True)\n",
      "C:\\Users\\MEI-KUEI LU\\anaconda3\\envs\\test\\lib\\site-packages\\sklearn\\linear_model\\_logistic.py:458: ConvergenceWarning: lbfgs failed to converge (status=1):\n",
      "STOP: TOTAL NO. of ITERATIONS REACHED LIMIT.\n",
      "\n",
      "Increase the number of iterations (max_iter) or scale the data as shown in:\n",
      "    https://scikit-learn.org/stable/modules/preprocessing.html\n",
      "Please also refer to the documentation for alternative solver options:\n",
      "    https://scikit-learn.org/stable/modules/linear_model.html#logistic-regression\n",
      "  n_iter_i = _check_optimize_result(\n",
      "C:\\Users\\MEI-KUEI LU\\anaconda3\\envs\\test\\lib\\site-packages\\sklearn\\utils\\validation.py:1141: DataConversionWarning: A column-vector y was passed when a 1d array was expected. Please change the shape of y to (n_samples, ), for example using ravel().\n",
      "  y = column_or_1d(y, warn=True)\n",
      "C:\\Users\\MEI-KUEI LU\\anaconda3\\envs\\test\\lib\\site-packages\\sklearn\\linear_model\\_logistic.py:458: ConvergenceWarning: lbfgs failed to converge (status=1):\n",
      "STOP: TOTAL NO. of ITERATIONS REACHED LIMIT.\n",
      "\n",
      "Increase the number of iterations (max_iter) or scale the data as shown in:\n",
      "    https://scikit-learn.org/stable/modules/preprocessing.html\n",
      "Please also refer to the documentation for alternative solver options:\n",
      "    https://scikit-learn.org/stable/modules/linear_model.html#logistic-regression\n",
      "  n_iter_i = _check_optimize_result(\n",
      "C:\\Users\\MEI-KUEI LU\\anaconda3\\envs\\test\\lib\\site-packages\\sklearn\\utils\\validation.py:1141: DataConversionWarning: A column-vector y was passed when a 1d array was expected. Please change the shape of y to (n_samples, ), for example using ravel().\n",
      "  y = column_or_1d(y, warn=True)\n",
      "C:\\Users\\MEI-KUEI LU\\anaconda3\\envs\\test\\lib\\site-packages\\sklearn\\linear_model\\_logistic.py:458: ConvergenceWarning: lbfgs failed to converge (status=1):\n",
      "STOP: TOTAL NO. of ITERATIONS REACHED LIMIT.\n",
      "\n",
      "Increase the number of iterations (max_iter) or scale the data as shown in:\n",
      "    https://scikit-learn.org/stable/modules/preprocessing.html\n",
      "Please also refer to the documentation for alternative solver options:\n",
      "    https://scikit-learn.org/stable/modules/linear_model.html#logistic-regression\n",
      "  n_iter_i = _check_optimize_result(\n"
     ]
    }
   ],
   "source": [
    "# Calculate the AUROCs using 5-fold cross-validation\n",
    "aurocs_log = cross_val_score(log_regressor, X, y, cv=skf, scoring='roc_auc')\n",
    "aurocs_lnr = cross_val_score(lnr_regressor, X, y, cv=skf, scoring='roc_auc')\n",
    "    \n",
    "# Calculate the mean and 95% confidence interval for the AUROCs for logistic regression\n",
    "mean_auroc_log = np.mean(aurocs_log)\n",
    "lower_ci_log = np.percentile(aurocs_log, 2.5)\n",
    "upper_ci_log = np.percentile(aurocs_log, 97.5)\n",
    "\n",
    "# Calculate the mean and 95% confidence interval for the AUROCs for linear regression\n",
    "mean_auroc_lnr = np.mean(aurocs_lnr)\n",
    "lower_ci_lnr = np.percentile(aurocs_lnr, 2.5)\n",
    "upper_ci_lnr = np.percentile(aurocs_lnr, 97.5)\n",
    "\n",
    "\n",
    "print(f'Mean AUROC for Logistic Regressoin: {mean_auroc_log:.3f}')\n",
    "print(f'95% CI for Logistic Regressoin: [{lower_ci_log:.3f}, {upper_ci_log:.3f}]\\n')\n",
    "\n",
    "print(f'Mean AUROC for Linear Regressoin: {mean_auroc_lnr:.3f}')\n",
    "print(f'95% CI for Linear Regressoin: [{lower_ci_lnr:.3f}, {upper_ci_lnr:.3f}]\\n')"
   ]
  },
  {
   "cell_type": "markdown",
   "id": "072788ab",
   "metadata": {},
   "source": [
    "Please provide a mean and 95% confidence interval for the f1 score for each model.\n",
    "\n",
    "**Ans**: Mean f1 score for Logistic Regression: 0.548.\n",
    "         95% confidence interval for Logistic Regression: [0.482, 0.613]\n",
    "\n",
    "**NOTE**: F1 score is a classification metric and the linear regression model is a regression model, thus it is not appropriate for the linear regression model."
   ]
  },
  {
   "cell_type": "code",
   "execution_count": 29,
   "id": "72c8ed0a",
   "metadata": {},
   "outputs": [
    {
     "name": "stdout",
     "output_type": "stream",
     "text": [
      "Mean f1 score for Logistic Regression: 0.548\n",
      "95% confidence interval for Logistic Regression: [0.482, 0.613]\n",
      "\n",
      "Mean f1 score for Linear Regression: nan\n",
      "95% confidence interval for Linear Regression: [nan, nan]\n"
     ]
    },
    {
     "name": "stderr",
     "output_type": "stream",
     "text": [
      "C:\\Users\\MEI-KUEI LU\\anaconda3\\envs\\test\\lib\\site-packages\\sklearn\\utils\\validation.py:1141: DataConversionWarning: A column-vector y was passed when a 1d array was expected. Please change the shape of y to (n_samples, ), for example using ravel().\n",
      "  y = column_or_1d(y, warn=True)\n",
      "C:\\Users\\MEI-KUEI LU\\anaconda3\\envs\\test\\lib\\site-packages\\sklearn\\linear_model\\_logistic.py:458: ConvergenceWarning: lbfgs failed to converge (status=1):\n",
      "STOP: TOTAL NO. of ITERATIONS REACHED LIMIT.\n",
      "\n",
      "Increase the number of iterations (max_iter) or scale the data as shown in:\n",
      "    https://scikit-learn.org/stable/modules/preprocessing.html\n",
      "Please also refer to the documentation for alternative solver options:\n",
      "    https://scikit-learn.org/stable/modules/linear_model.html#logistic-regression\n",
      "  n_iter_i = _check_optimize_result(\n",
      "C:\\Users\\MEI-KUEI LU\\anaconda3\\envs\\test\\lib\\site-packages\\sklearn\\utils\\validation.py:1141: DataConversionWarning: A column-vector y was passed when a 1d array was expected. Please change the shape of y to (n_samples, ), for example using ravel().\n",
      "  y = column_or_1d(y, warn=True)\n",
      "C:\\Users\\MEI-KUEI LU\\anaconda3\\envs\\test\\lib\\site-packages\\sklearn\\linear_model\\_logistic.py:458: ConvergenceWarning: lbfgs failed to converge (status=1):\n",
      "STOP: TOTAL NO. of ITERATIONS REACHED LIMIT.\n",
      "\n",
      "Increase the number of iterations (max_iter) or scale the data as shown in:\n",
      "    https://scikit-learn.org/stable/modules/preprocessing.html\n",
      "Please also refer to the documentation for alternative solver options:\n",
      "    https://scikit-learn.org/stable/modules/linear_model.html#logistic-regression\n",
      "  n_iter_i = _check_optimize_result(\n",
      "C:\\Users\\MEI-KUEI LU\\anaconda3\\envs\\test\\lib\\site-packages\\sklearn\\utils\\validation.py:1141: DataConversionWarning: A column-vector y was passed when a 1d array was expected. Please change the shape of y to (n_samples, ), for example using ravel().\n",
      "  y = column_or_1d(y, warn=True)\n",
      "C:\\Users\\MEI-KUEI LU\\anaconda3\\envs\\test\\lib\\site-packages\\sklearn\\linear_model\\_logistic.py:458: ConvergenceWarning: lbfgs failed to converge (status=1):\n",
      "STOP: TOTAL NO. of ITERATIONS REACHED LIMIT.\n",
      "\n",
      "Increase the number of iterations (max_iter) or scale the data as shown in:\n",
      "    https://scikit-learn.org/stable/modules/preprocessing.html\n",
      "Please also refer to the documentation for alternative solver options:\n",
      "    https://scikit-learn.org/stable/modules/linear_model.html#logistic-regression\n",
      "  n_iter_i = _check_optimize_result(\n",
      "C:\\Users\\MEI-KUEI LU\\anaconda3\\envs\\test\\lib\\site-packages\\sklearn\\utils\\validation.py:1141: DataConversionWarning: A column-vector y was passed when a 1d array was expected. Please change the shape of y to (n_samples, ), for example using ravel().\n",
      "  y = column_or_1d(y, warn=True)\n",
      "C:\\Users\\MEI-KUEI LU\\anaconda3\\envs\\test\\lib\\site-packages\\sklearn\\linear_model\\_logistic.py:458: ConvergenceWarning: lbfgs failed to converge (status=1):\n",
      "STOP: TOTAL NO. of ITERATIONS REACHED LIMIT.\n",
      "\n",
      "Increase the number of iterations (max_iter) or scale the data as shown in:\n",
      "    https://scikit-learn.org/stable/modules/preprocessing.html\n",
      "Please also refer to the documentation for alternative solver options:\n",
      "    https://scikit-learn.org/stable/modules/linear_model.html#logistic-regression\n",
      "  n_iter_i = _check_optimize_result(\n",
      "C:\\Users\\MEI-KUEI LU\\anaconda3\\envs\\test\\lib\\site-packages\\sklearn\\utils\\validation.py:1141: DataConversionWarning: A column-vector y was passed when a 1d array was expected. Please change the shape of y to (n_samples, ), for example using ravel().\n",
      "  y = column_or_1d(y, warn=True)\n",
      "C:\\Users\\MEI-KUEI LU\\anaconda3\\envs\\test\\lib\\site-packages\\sklearn\\linear_model\\_logistic.py:458: ConvergenceWarning: lbfgs failed to converge (status=1):\n",
      "STOP: TOTAL NO. of ITERATIONS REACHED LIMIT.\n",
      "\n",
      "Increase the number of iterations (max_iter) or scale the data as shown in:\n",
      "    https://scikit-learn.org/stable/modules/preprocessing.html\n",
      "Please also refer to the documentation for alternative solver options:\n",
      "    https://scikit-learn.org/stable/modules/linear_model.html#logistic-regression\n",
      "  n_iter_i = _check_optimize_result(\n",
      "C:\\Users\\MEI-KUEI LU\\anaconda3\\envs\\test\\lib\\site-packages\\sklearn\\model_selection\\_validation.py:776: UserWarning: Scoring failed. The score on this train-test partition for these parameters will be set to nan. Details: \n",
      "Traceback (most recent call last):\n",
      "  File \"C:\\Users\\MEI-KUEI LU\\anaconda3\\envs\\test\\lib\\site-packages\\sklearn\\model_selection\\_validation.py\", line 767, in _score\n",
      "    scores = scorer(estimator, X_test, y_test)\n",
      "  File \"C:\\Users\\MEI-KUEI LU\\anaconda3\\envs\\test\\lib\\site-packages\\sklearn\\metrics\\_scorer.py\", line 107, in __call__\n",
      "    score = scorer._score(cached_call, estimator, *args, **kwargs)\n",
      "  File \"C:\\Users\\MEI-KUEI LU\\anaconda3\\envs\\test\\lib\\site-packages\\sklearn\\metrics\\_scorer.py\", line 268, in _score\n",
      "    return self._sign * self._score_func(y_true, y_pred, **self._kwargs)\n",
      "  File \"C:\\Users\\MEI-KUEI LU\\anaconda3\\envs\\test\\lib\\site-packages\\sklearn\\metrics\\_classification.py\", line 1146, in f1_score\n",
      "    return fbeta_score(\n",
      "  File \"C:\\Users\\MEI-KUEI LU\\anaconda3\\envs\\test\\lib\\site-packages\\sklearn\\metrics\\_classification.py\", line 1287, in fbeta_score\n",
      "    _, _, f, _ = precision_recall_fscore_support(\n",
      "  File \"C:\\Users\\MEI-KUEI LU\\anaconda3\\envs\\test\\lib\\site-packages\\sklearn\\metrics\\_classification.py\", line 1573, in precision_recall_fscore_support\n",
      "    labels = _check_set_wise_labels(y_true, y_pred, average, labels, pos_label)\n",
      "  File \"C:\\Users\\MEI-KUEI LU\\anaconda3\\envs\\test\\lib\\site-packages\\sklearn\\metrics\\_classification.py\", line 1374, in _check_set_wise_labels\n",
      "    y_type, y_true, y_pred = _check_targets(y_true, y_pred)\n",
      "  File \"C:\\Users\\MEI-KUEI LU\\anaconda3\\envs\\test\\lib\\site-packages\\sklearn\\metrics\\_classification.py\", line 95, in _check_targets\n",
      "    raise ValueError(\n",
      "ValueError: Classification metrics can't handle a mix of binary and continuous targets\n",
      "\n",
      "  warnings.warn(\n",
      "C:\\Users\\MEI-KUEI LU\\anaconda3\\envs\\test\\lib\\site-packages\\sklearn\\model_selection\\_validation.py:776: UserWarning: Scoring failed. The score on this train-test partition for these parameters will be set to nan. Details: \n",
      "Traceback (most recent call last):\n",
      "  File \"C:\\Users\\MEI-KUEI LU\\anaconda3\\envs\\test\\lib\\site-packages\\sklearn\\model_selection\\_validation.py\", line 767, in _score\n",
      "    scores = scorer(estimator, X_test, y_test)\n",
      "  File \"C:\\Users\\MEI-KUEI LU\\anaconda3\\envs\\test\\lib\\site-packages\\sklearn\\metrics\\_scorer.py\", line 107, in __call__\n",
      "    score = scorer._score(cached_call, estimator, *args, **kwargs)\n",
      "  File \"C:\\Users\\MEI-KUEI LU\\anaconda3\\envs\\test\\lib\\site-packages\\sklearn\\metrics\\_scorer.py\", line 268, in _score\n",
      "    return self._sign * self._score_func(y_true, y_pred, **self._kwargs)\n",
      "  File \"C:\\Users\\MEI-KUEI LU\\anaconda3\\envs\\test\\lib\\site-packages\\sklearn\\metrics\\_classification.py\", line 1146, in f1_score\n",
      "    return fbeta_score(\n",
      "  File \"C:\\Users\\MEI-KUEI LU\\anaconda3\\envs\\test\\lib\\site-packages\\sklearn\\metrics\\_classification.py\", line 1287, in fbeta_score\n",
      "    _, _, f, _ = precision_recall_fscore_support(\n",
      "  File \"C:\\Users\\MEI-KUEI LU\\anaconda3\\envs\\test\\lib\\site-packages\\sklearn\\metrics\\_classification.py\", line 1573, in precision_recall_fscore_support\n",
      "    labels = _check_set_wise_labels(y_true, y_pred, average, labels, pos_label)\n",
      "  File \"C:\\Users\\MEI-KUEI LU\\anaconda3\\envs\\test\\lib\\site-packages\\sklearn\\metrics\\_classification.py\", line 1374, in _check_set_wise_labels\n",
      "    y_type, y_true, y_pred = _check_targets(y_true, y_pred)\n",
      "  File \"C:\\Users\\MEI-KUEI LU\\anaconda3\\envs\\test\\lib\\site-packages\\sklearn\\metrics\\_classification.py\", line 95, in _check_targets\n",
      "    raise ValueError(\n",
      "ValueError: Classification metrics can't handle a mix of binary and continuous targets\n",
      "\n",
      "  warnings.warn(\n",
      "C:\\Users\\MEI-KUEI LU\\anaconda3\\envs\\test\\lib\\site-packages\\sklearn\\model_selection\\_validation.py:776: UserWarning: Scoring failed. The score on this train-test partition for these parameters will be set to nan. Details: \n",
      "Traceback (most recent call last):\n",
      "  File \"C:\\Users\\MEI-KUEI LU\\anaconda3\\envs\\test\\lib\\site-packages\\sklearn\\model_selection\\_validation.py\", line 767, in _score\n",
      "    scores = scorer(estimator, X_test, y_test)\n",
      "  File \"C:\\Users\\MEI-KUEI LU\\anaconda3\\envs\\test\\lib\\site-packages\\sklearn\\metrics\\_scorer.py\", line 107, in __call__\n",
      "    score = scorer._score(cached_call, estimator, *args, **kwargs)\n",
      "  File \"C:\\Users\\MEI-KUEI LU\\anaconda3\\envs\\test\\lib\\site-packages\\sklearn\\metrics\\_scorer.py\", line 268, in _score\n",
      "    return self._sign * self._score_func(y_true, y_pred, **self._kwargs)\n",
      "  File \"C:\\Users\\MEI-KUEI LU\\anaconda3\\envs\\test\\lib\\site-packages\\sklearn\\metrics\\_classification.py\", line 1146, in f1_score\n",
      "    return fbeta_score(\n",
      "  File \"C:\\Users\\MEI-KUEI LU\\anaconda3\\envs\\test\\lib\\site-packages\\sklearn\\metrics\\_classification.py\", line 1287, in fbeta_score\n",
      "    _, _, f, _ = precision_recall_fscore_support(\n",
      "  File \"C:\\Users\\MEI-KUEI LU\\anaconda3\\envs\\test\\lib\\site-packages\\sklearn\\metrics\\_classification.py\", line 1573, in precision_recall_fscore_support\n",
      "    labels = _check_set_wise_labels(y_true, y_pred, average, labels, pos_label)\n",
      "  File \"C:\\Users\\MEI-KUEI LU\\anaconda3\\envs\\test\\lib\\site-packages\\sklearn\\metrics\\_classification.py\", line 1374, in _check_set_wise_labels\n",
      "    y_type, y_true, y_pred = _check_targets(y_true, y_pred)\n",
      "  File \"C:\\Users\\MEI-KUEI LU\\anaconda3\\envs\\test\\lib\\site-packages\\sklearn\\metrics\\_classification.py\", line 95, in _check_targets\n",
      "    raise ValueError(\n",
      "ValueError: Classification metrics can't handle a mix of binary and continuous targets\n",
      "\n",
      "  warnings.warn(\n",
      "C:\\Users\\MEI-KUEI LU\\anaconda3\\envs\\test\\lib\\site-packages\\sklearn\\model_selection\\_validation.py:776: UserWarning: Scoring failed. The score on this train-test partition for these parameters will be set to nan. Details: \n",
      "Traceback (most recent call last):\n",
      "  File \"C:\\Users\\MEI-KUEI LU\\anaconda3\\envs\\test\\lib\\site-packages\\sklearn\\model_selection\\_validation.py\", line 767, in _score\n",
      "    scores = scorer(estimator, X_test, y_test)\n",
      "  File \"C:\\Users\\MEI-KUEI LU\\anaconda3\\envs\\test\\lib\\site-packages\\sklearn\\metrics\\_scorer.py\", line 107, in __call__\n",
      "    score = scorer._score(cached_call, estimator, *args, **kwargs)\n",
      "  File \"C:\\Users\\MEI-KUEI LU\\anaconda3\\envs\\test\\lib\\site-packages\\sklearn\\metrics\\_scorer.py\", line 268, in _score\n",
      "    return self._sign * self._score_func(y_true, y_pred, **self._kwargs)\n",
      "  File \"C:\\Users\\MEI-KUEI LU\\anaconda3\\envs\\test\\lib\\site-packages\\sklearn\\metrics\\_classification.py\", line 1146, in f1_score\n",
      "    return fbeta_score(\n",
      "  File \"C:\\Users\\MEI-KUEI LU\\anaconda3\\envs\\test\\lib\\site-packages\\sklearn\\metrics\\_classification.py\", line 1287, in fbeta_score\n",
      "    _, _, f, _ = precision_recall_fscore_support(\n",
      "  File \"C:\\Users\\MEI-KUEI LU\\anaconda3\\envs\\test\\lib\\site-packages\\sklearn\\metrics\\_classification.py\", line 1573, in precision_recall_fscore_support\n",
      "    labels = _check_set_wise_labels(y_true, y_pred, average, labels, pos_label)\n",
      "  File \"C:\\Users\\MEI-KUEI LU\\anaconda3\\envs\\test\\lib\\site-packages\\sklearn\\metrics\\_classification.py\", line 1374, in _check_set_wise_labels\n",
      "    y_type, y_true, y_pred = _check_targets(y_true, y_pred)\n",
      "  File \"C:\\Users\\MEI-KUEI LU\\anaconda3\\envs\\test\\lib\\site-packages\\sklearn\\metrics\\_classification.py\", line 95, in _check_targets\n",
      "    raise ValueError(\n",
      "ValueError: Classification metrics can't handle a mix of binary and continuous targets\n",
      "\n",
      "  warnings.warn(\n",
      "C:\\Users\\MEI-KUEI LU\\anaconda3\\envs\\test\\lib\\site-packages\\sklearn\\model_selection\\_validation.py:776: UserWarning: Scoring failed. The score on this train-test partition for these parameters will be set to nan. Details: \n",
      "Traceback (most recent call last):\n",
      "  File \"C:\\Users\\MEI-KUEI LU\\anaconda3\\envs\\test\\lib\\site-packages\\sklearn\\model_selection\\_validation.py\", line 767, in _score\n",
      "    scores = scorer(estimator, X_test, y_test)\n",
      "  File \"C:\\Users\\MEI-KUEI LU\\anaconda3\\envs\\test\\lib\\site-packages\\sklearn\\metrics\\_scorer.py\", line 107, in __call__\n",
      "    score = scorer._score(cached_call, estimator, *args, **kwargs)\n",
      "  File \"C:\\Users\\MEI-KUEI LU\\anaconda3\\envs\\test\\lib\\site-packages\\sklearn\\metrics\\_scorer.py\", line 268, in _score\n",
      "    return self._sign * self._score_func(y_true, y_pred, **self._kwargs)\n",
      "  File \"C:\\Users\\MEI-KUEI LU\\anaconda3\\envs\\test\\lib\\site-packages\\sklearn\\metrics\\_classification.py\", line 1146, in f1_score\n",
      "    return fbeta_score(\n",
      "  File \"C:\\Users\\MEI-KUEI LU\\anaconda3\\envs\\test\\lib\\site-packages\\sklearn\\metrics\\_classification.py\", line 1287, in fbeta_score\n",
      "    _, _, f, _ = precision_recall_fscore_support(\n",
      "  File \"C:\\Users\\MEI-KUEI LU\\anaconda3\\envs\\test\\lib\\site-packages\\sklearn\\metrics\\_classification.py\", line 1573, in precision_recall_fscore_support\n",
      "    labels = _check_set_wise_labels(y_true, y_pred, average, labels, pos_label)\n",
      "  File \"C:\\Users\\MEI-KUEI LU\\anaconda3\\envs\\test\\lib\\site-packages\\sklearn\\metrics\\_classification.py\", line 1374, in _check_set_wise_labels\n",
      "    y_type, y_true, y_pred = _check_targets(y_true, y_pred)\n",
      "  File \"C:\\Users\\MEI-KUEI LU\\anaconda3\\envs\\test\\lib\\site-packages\\sklearn\\metrics\\_classification.py\", line 95, in _check_targets\n",
      "    raise ValueError(\n",
      "ValueError: Classification metrics can't handle a mix of binary and continuous targets\n",
      "\n",
      "  warnings.warn(\n"
     ]
    }
   ],
   "source": [
    "from sklearn.model_selection import cross_val_score\n",
    "from sklearn.metrics import make_scorer, f1_score\n",
    "\n",
    "# Define the cross-validation function to calculate the f1 score\n",
    "f1_scorer = make_scorer(f1_score, pos_label=1)\n",
    "f1_scores = cross_val_score(log_regressor, X, y, cv=5, scoring=f1_scorer)\n",
    "\n",
    "f1_scorer_lnr = make_scorer(f1_score, pos_label=1)\n",
    "f1_scores_lnr = cross_val_score(lnr_regressor, X, y, cv=5, scoring=f1_scorer_lnr)\n",
    "\n",
    "# Calculate the mean and confidence interval of the f1 scores for logistic regression \n",
    "f1_mean = f1_scores.mean()\n",
    "f1_std = f1_scores.std()\n",
    "f1_ci = 1.96 * f1_std / np.sqrt(len(f1_scores))\n",
    "\n",
    "# Calculate the mean and confidence interval of the f1 scores for linear regression \n",
    "f1_mean_lnr = f1_scores_lnr.mean()\n",
    "f1_std_lnr = f1_scores_lnr.std()\n",
    "f1_ci_lnr = 1.96 * f1_std_lnr / np.sqrt(len(f1_scores_lnr))\n",
    "\n",
    "print(\"Mean f1 score for Logistic Regression: {:.3f}\".format(f1_mean))\n",
    "print(\"95% confidence interval for Logistic Regression: [{:.3f}, {:.3f}]\\n\".format(f1_mean - f1_ci, f1_mean + f1_ci))\n",
    "\n",
    "print(\"Mean f1 score for Linear Regression: {:.3f}\".format(f1_mean_lnr))\n",
    "print(\"95% confidence interval for Linear Regression: [{:.3f}, {:.3f}]\".format(f1_mean_lnr - f1_ci_lnr, f1_mean_lnr + f1_ci_lnr))"
   ]
  },
  {
   "cell_type": "markdown",
   "id": "cb4e6f81",
   "metadata": {},
   "source": [
    "## (iv) Additional Model Tests for Hitters"
   ]
  },
  {
   "cell_type": "markdown",
   "id": "b6efcfe9",
   "metadata": {},
   "source": [
    "Using 80% of the data as a training set and 20% as a testing set, please implement a ridge regression and a lasso regularization logistic regression model for Hitters dataset. Please describe your hyperparameter tuning procedures.\n",
    "\n",
    "**Ans**: 1) Split the data into training and testing sets, with 80% of the data used for training and 20% for testing. 2) Implement the Ridge and Lasso models and set up a grid of hyperparameters to search over. 3) Use cross-validation to estimate the performance of the models with different hyperparameters. 4) Select the hyperparameters that give the best performance. 5) Train the final model using the selected hyperparameters on the training set and evaluate its performance on the testing set."
   ]
  },
  {
   "cell_type": "code",
   "execution_count": 30,
   "id": "4a13ab2c",
   "metadata": {},
   "outputs": [
    {
     "name": "stderr",
     "output_type": "stream",
     "text": [
      "C:\\Users\\MEI-KUEI LU\\anaconda3\\envs\\test\\lib\\site-packages\\sklearn\\linear_model\\_coordinate_descent.py:634: ConvergenceWarning: Objective did not converge. You might want to increase the number of iterations, check the scale of the features or consider increasing regularisation. Duality gap: 5.774e+00, tolerance: 4.162e-03\n",
      "  model = cd_fast.enet_coordinate_descent(\n",
      "C:\\Users\\MEI-KUEI LU\\anaconda3\\envs\\test\\lib\\site-packages\\sklearn\\linear_model\\_coordinate_descent.py:634: ConvergenceWarning: Objective did not converge. You might want to increase the number of iterations, check the scale of the features or consider increasing regularisation. Duality gap: 5.002e+00, tolerance: 4.198e-03\n",
      "  model = cd_fast.enet_coordinate_descent(\n",
      "C:\\Users\\MEI-KUEI LU\\anaconda3\\envs\\test\\lib\\site-packages\\sklearn\\linear_model\\_coordinate_descent.py:634: ConvergenceWarning: Objective did not converge. You might want to increase the number of iterations, check the scale of the features or consider increasing regularisation. Duality gap: 3.976e+00, tolerance: 4.152e-03\n",
      "  model = cd_fast.enet_coordinate_descent(\n",
      "C:\\Users\\MEI-KUEI LU\\anaconda3\\envs\\test\\lib\\site-packages\\sklearn\\linear_model\\_coordinate_descent.py:634: ConvergenceWarning: Objective did not converge. You might want to increase the number of iterations, check the scale of the features or consider increasing regularisation. Duality gap: 4.866e+00, tolerance: 4.195e-03\n",
      "  model = cd_fast.enet_coordinate_descent(\n",
      "C:\\Users\\MEI-KUEI LU\\anaconda3\\envs\\test\\lib\\site-packages\\sklearn\\linear_model\\_coordinate_descent.py:634: ConvergenceWarning: Objective did not converge. You might want to increase the number of iterations, check the scale of the features or consider increasing regularisation. Duality gap: 6.262e+00, tolerance: 4.140e-03\n",
      "  model = cd_fast.enet_coordinate_descent(\n",
      "C:\\Users\\MEI-KUEI LU\\anaconda3\\envs\\test\\lib\\site-packages\\sklearn\\linear_model\\_coordinate_descent.py:634: ConvergenceWarning: Objective did not converge. You might want to increase the number of iterations, check the scale of the features or consider increasing regularisation. Duality gap: 6.307e+00, tolerance: 4.162e-03\n",
      "  model = cd_fast.enet_coordinate_descent(\n",
      "C:\\Users\\MEI-KUEI LU\\anaconda3\\envs\\test\\lib\\site-packages\\sklearn\\linear_model\\_coordinate_descent.py:634: ConvergenceWarning: Objective did not converge. You might want to increase the number of iterations, check the scale of the features or consider increasing regularisation. Duality gap: 5.267e+00, tolerance: 4.198e-03\n",
      "  model = cd_fast.enet_coordinate_descent(\n",
      "C:\\Users\\MEI-KUEI LU\\anaconda3\\envs\\test\\lib\\site-packages\\sklearn\\linear_model\\_coordinate_descent.py:634: ConvergenceWarning: Objective did not converge. You might want to increase the number of iterations, check the scale of the features or consider increasing regularisation. Duality gap: 4.738e+00, tolerance: 4.152e-03\n",
      "  model = cd_fast.enet_coordinate_descent(\n",
      "C:\\Users\\MEI-KUEI LU\\anaconda3\\envs\\test\\lib\\site-packages\\sklearn\\linear_model\\_coordinate_descent.py:634: ConvergenceWarning: Objective did not converge. You might want to increase the number of iterations, check the scale of the features or consider increasing regularisation. Duality gap: 5.665e+00, tolerance: 4.195e-03\n",
      "  model = cd_fast.enet_coordinate_descent(\n",
      "C:\\Users\\MEI-KUEI LU\\anaconda3\\envs\\test\\lib\\site-packages\\sklearn\\linear_model\\_coordinate_descent.py:634: ConvergenceWarning: Objective did not converge. You might want to increase the number of iterations, check the scale of the features or consider increasing regularisation. Duality gap: 6.411e+00, tolerance: 4.140e-03\n",
      "  model = cd_fast.enet_coordinate_descent(\n",
      "C:\\Users\\MEI-KUEI LU\\anaconda3\\envs\\test\\lib\\site-packages\\sklearn\\linear_model\\_coordinate_descent.py:634: ConvergenceWarning: Objective did not converge. You might want to increase the number of iterations, check the scale of the features or consider increasing regularisation. Duality gap: 4.035e+00, tolerance: 4.162e-03\n",
      "  model = cd_fast.enet_coordinate_descent(\n",
      "C:\\Users\\MEI-KUEI LU\\anaconda3\\envs\\test\\lib\\site-packages\\sklearn\\linear_model\\_coordinate_descent.py:634: ConvergenceWarning: Objective did not converge. You might want to increase the number of iterations, check the scale of the features or consider increasing regularisation. Duality gap: 3.982e+00, tolerance: 4.198e-03\n",
      "  model = cd_fast.enet_coordinate_descent(\n",
      "C:\\Users\\MEI-KUEI LU\\anaconda3\\envs\\test\\lib\\site-packages\\sklearn\\linear_model\\_coordinate_descent.py:634: ConvergenceWarning: Objective did not converge. You might want to increase the number of iterations, check the scale of the features or consider increasing regularisation. Duality gap: 1.536e+00, tolerance: 4.152e-03\n",
      "  model = cd_fast.enet_coordinate_descent(\n",
      "C:\\Users\\MEI-KUEI LU\\anaconda3\\envs\\test\\lib\\site-packages\\sklearn\\linear_model\\_coordinate_descent.py:634: ConvergenceWarning: Objective did not converge. You might want to increase the number of iterations, check the scale of the features or consider increasing regularisation. Duality gap: 1.050e+00, tolerance: 4.195e-03\n",
      "  model = cd_fast.enet_coordinate_descent(\n",
      "C:\\Users\\MEI-KUEI LU\\anaconda3\\envs\\test\\lib\\site-packages\\sklearn\\linear_model\\_coordinate_descent.py:634: ConvergenceWarning: Objective did not converge. You might want to increase the number of iterations, check the scale of the features or consider increasing regularisation. Duality gap: 7.393e-02, tolerance: 4.140e-03\n",
      "  model = cd_fast.enet_coordinate_descent(\n",
      "C:\\Users\\MEI-KUEI LU\\anaconda3\\envs\\test\\lib\\site-packages\\sklearn\\linear_model\\_coordinate_descent.py:634: ConvergenceWarning: Objective did not converge. You might want to increase the number of iterations, check the scale of the features or consider increasing regularisation. Duality gap: 1.721e-02, tolerance: 4.198e-03\n",
      "  model = cd_fast.enet_coordinate_descent(\n",
      "C:\\Users\\MEI-KUEI LU\\anaconda3\\envs\\test\\lib\\site-packages\\sklearn\\linear_model\\_coordinate_descent.py:634: ConvergenceWarning: Objective did not converge. You might want to increase the number of iterations, check the scale of the features or consider increasing regularisation. Duality gap: 7.296e+00, tolerance: 5.220e-03\n",
      "  model = cd_fast.enet_coordinate_descent(\n",
      "C:\\Users\\MEI-KUEI LU\\anaconda3\\envs\\test\\lib\\site-packages\\sklearn\\linear_model\\_coordinate_descent.py:634: ConvergenceWarning: Objective did not converge. You might want to increase the number of iterations, check the scale of the features or consider increasing regularisation. Duality gap: 6.109e+00, tolerance: 4.171e-03\n",
      "  model = cd_fast.enet_coordinate_descent(\n",
      "C:\\Users\\MEI-KUEI LU\\anaconda3\\envs\\test\\lib\\site-packages\\sklearn\\linear_model\\_coordinate_descent.py:634: ConvergenceWarning: Objective did not converge. You might want to increase the number of iterations, check the scale of the features or consider increasing regularisation. Duality gap: 6.090e+00, tolerance: 4.198e-03\n",
      "  model = cd_fast.enet_coordinate_descent(\n",
      "C:\\Users\\MEI-KUEI LU\\anaconda3\\envs\\test\\lib\\site-packages\\sklearn\\linear_model\\_coordinate_descent.py:634: ConvergenceWarning: Objective did not converge. You might want to increase the number of iterations, check the scale of the features or consider increasing regularisation. Duality gap: 4.313e+00, tolerance: 4.114e-03\n",
      "  model = cd_fast.enet_coordinate_descent(\n",
      "C:\\Users\\MEI-KUEI LU\\anaconda3\\envs\\test\\lib\\site-packages\\sklearn\\linear_model\\_coordinate_descent.py:634: ConvergenceWarning: Objective did not converge. You might want to increase the number of iterations, check the scale of the features or consider increasing regularisation. Duality gap: 5.313e+00, tolerance: 4.198e-03\n",
      "  model = cd_fast.enet_coordinate_descent(\n",
      "C:\\Users\\MEI-KUEI LU\\anaconda3\\envs\\test\\lib\\site-packages\\sklearn\\linear_model\\_coordinate_descent.py:634: ConvergenceWarning: Objective did not converge. You might want to increase the number of iterations, check the scale of the features or consider increasing regularisation. Duality gap: 6.153e+00, tolerance: 4.152e-03\n",
      "  model = cd_fast.enet_coordinate_descent(\n"
     ]
    },
    {
     "name": "stdout",
     "output_type": "stream",
     "text": [
      "{'ridge_reg': 0.188, 'lasso_reg': 0.18828571428571428}\n"
     ]
    },
    {
     "name": "stderr",
     "output_type": "stream",
     "text": [
      "C:\\Users\\MEI-KUEI LU\\anaconda3\\envs\\test\\lib\\site-packages\\sklearn\\linear_model\\_coordinate_descent.py:634: ConvergenceWarning: Objective did not converge. You might want to increase the number of iterations, check the scale of the features or consider increasing regularisation. Duality gap: 6.870e+00, tolerance: 4.171e-03\n",
      "  model = cd_fast.enet_coordinate_descent(\n",
      "C:\\Users\\MEI-KUEI LU\\anaconda3\\envs\\test\\lib\\site-packages\\sklearn\\linear_model\\_coordinate_descent.py:634: ConvergenceWarning: Objective did not converge. You might want to increase the number of iterations, check the scale of the features or consider increasing regularisation. Duality gap: 6.870e+00, tolerance: 4.198e-03\n",
      "  model = cd_fast.enet_coordinate_descent(\n",
      "C:\\Users\\MEI-KUEI LU\\anaconda3\\envs\\test\\lib\\site-packages\\sklearn\\linear_model\\_coordinate_descent.py:634: ConvergenceWarning: Objective did not converge. You might want to increase the number of iterations, check the scale of the features or consider increasing regularisation. Duality gap: 5.425e+00, tolerance: 4.114e-03\n",
      "  model = cd_fast.enet_coordinate_descent(\n",
      "C:\\Users\\MEI-KUEI LU\\anaconda3\\envs\\test\\lib\\site-packages\\sklearn\\linear_model\\_coordinate_descent.py:634: ConvergenceWarning: Objective did not converge. You might want to increase the number of iterations, check the scale of the features or consider increasing regularisation. Duality gap: 6.314e+00, tolerance: 4.198e-03\n",
      "  model = cd_fast.enet_coordinate_descent(\n",
      "C:\\Users\\MEI-KUEI LU\\anaconda3\\envs\\test\\lib\\site-packages\\sklearn\\linear_model\\_coordinate_descent.py:634: ConvergenceWarning: Objective did not converge. You might want to increase the number of iterations, check the scale of the features or consider increasing regularisation. Duality gap: 6.988e+00, tolerance: 4.152e-03\n",
      "  model = cd_fast.enet_coordinate_descent(\n",
      "C:\\Users\\MEI-KUEI LU\\anaconda3\\envs\\test\\lib\\site-packages\\sklearn\\linear_model\\_coordinate_descent.py:634: ConvergenceWarning: Objective did not converge. You might want to increase the number of iterations, check the scale of the features or consider increasing regularisation. Duality gap: 5.445e+00, tolerance: 4.171e-03\n",
      "  model = cd_fast.enet_coordinate_descent(\n",
      "C:\\Users\\MEI-KUEI LU\\anaconda3\\envs\\test\\lib\\site-packages\\sklearn\\linear_model\\_coordinate_descent.py:634: ConvergenceWarning: Objective did not converge. You might want to increase the number of iterations, check the scale of the features or consider increasing regularisation. Duality gap: 1.032e+01, tolerance: 4.198e-03\n",
      "  model = cd_fast.enet_coordinate_descent(\n",
      "C:\\Users\\MEI-KUEI LU\\anaconda3\\envs\\test\\lib\\site-packages\\sklearn\\linear_model\\_coordinate_descent.py:634: ConvergenceWarning: Objective did not converge. You might want to increase the number of iterations, check the scale of the features or consider increasing regularisation. Duality gap: 7.318e+00, tolerance: 4.114e-03\n",
      "  model = cd_fast.enet_coordinate_descent(\n",
      "C:\\Users\\MEI-KUEI LU\\anaconda3\\envs\\test\\lib\\site-packages\\sklearn\\linear_model\\_coordinate_descent.py:634: ConvergenceWarning: Objective did not converge. You might want to increase the number of iterations, check the scale of the features or consider increasing regularisation. Duality gap: 5.528e+00, tolerance: 4.198e-03\n",
      "  model = cd_fast.enet_coordinate_descent(\n",
      "C:\\Users\\MEI-KUEI LU\\anaconda3\\envs\\test\\lib\\site-packages\\sklearn\\linear_model\\_coordinate_descent.py:634: ConvergenceWarning: Objective did not converge. You might want to increase the number of iterations, check the scale of the features or consider increasing regularisation. Duality gap: 7.692e+00, tolerance: 4.152e-03\n",
      "  model = cd_fast.enet_coordinate_descent(\n",
      "C:\\Users\\MEI-KUEI LU\\anaconda3\\envs\\test\\lib\\site-packages\\sklearn\\linear_model\\_coordinate_descent.py:634: ConvergenceWarning: Objective did not converge. You might want to increase the number of iterations, check the scale of the features or consider increasing regularisation. Duality gap: 6.678e-03, tolerance: 4.198e-03\n",
      "  model = cd_fast.enet_coordinate_descent(\n",
      "C:\\Users\\MEI-KUEI LU\\anaconda3\\envs\\test\\lib\\site-packages\\sklearn\\linear_model\\_coordinate_descent.py:634: ConvergenceWarning: Objective did not converge. You might want to increase the number of iterations, check the scale of the features or consider increasing regularisation. Duality gap: 8.122e+00, tolerance: 5.220e-03\n",
      "  model = cd_fast.enet_coordinate_descent(\n"
     ]
    },
    {
     "name": "stdout",
     "output_type": "stream",
     "text": [
      "{'ridge_reg': 0.382, 'lasso_reg': 0.3842857142857143}\n"
     ]
    },
    {
     "name": "stderr",
     "output_type": "stream",
     "text": [
      "C:\\Users\\MEI-KUEI LU\\anaconda3\\envs\\test\\lib\\site-packages\\sklearn\\linear_model\\_coordinate_descent.py:634: ConvergenceWarning: Objective did not converge. You might want to increase the number of iterations, check the scale of the features or consider increasing regularisation. Duality gap: 5.533e+00, tolerance: 4.162e-03\n",
      "  model = cd_fast.enet_coordinate_descent(\n",
      "C:\\Users\\MEI-KUEI LU\\anaconda3\\envs\\test\\lib\\site-packages\\sklearn\\linear_model\\_coordinate_descent.py:634: ConvergenceWarning: Objective did not converge. You might want to increase the number of iterations, check the scale of the features or consider increasing regularisation. Duality gap: 4.932e+00, tolerance: 4.198e-03\n",
      "  model = cd_fast.enet_coordinate_descent(\n",
      "C:\\Users\\MEI-KUEI LU\\anaconda3\\envs\\test\\lib\\site-packages\\sklearn\\linear_model\\_coordinate_descent.py:634: ConvergenceWarning: Objective did not converge. You might want to increase the number of iterations, check the scale of the features or consider increasing regularisation. Duality gap: 4.359e+00, tolerance: 4.140e-03\n",
      "  model = cd_fast.enet_coordinate_descent(\n",
      "C:\\Users\\MEI-KUEI LU\\anaconda3\\envs\\test\\lib\\site-packages\\sklearn\\linear_model\\_coordinate_descent.py:634: ConvergenceWarning: Objective did not converge. You might want to increase the number of iterations, check the scale of the features or consider increasing regularisation. Duality gap: 5.094e+00, tolerance: 4.199e-03\n",
      "  model = cd_fast.enet_coordinate_descent(\n",
      "C:\\Users\\MEI-KUEI LU\\anaconda3\\envs\\test\\lib\\site-packages\\sklearn\\linear_model\\_coordinate_descent.py:634: ConvergenceWarning: Objective did not converge. You might want to increase the number of iterations, check the scale of the features or consider increasing regularisation. Duality gap: 5.435e+00, tolerance: 4.171e-03\n",
      "  model = cd_fast.enet_coordinate_descent(\n",
      "C:\\Users\\MEI-KUEI LU\\anaconda3\\envs\\test\\lib\\site-packages\\sklearn\\linear_model\\_coordinate_descent.py:634: ConvergenceWarning: Objective did not converge. You might want to increase the number of iterations, check the scale of the features or consider increasing regularisation. Duality gap: 6.320e+00, tolerance: 4.162e-03\n",
      "  model = cd_fast.enet_coordinate_descent(\n",
      "C:\\Users\\MEI-KUEI LU\\anaconda3\\envs\\test\\lib\\site-packages\\sklearn\\linear_model\\_coordinate_descent.py:634: ConvergenceWarning: Objective did not converge. You might want to increase the number of iterations, check the scale of the features or consider increasing regularisation. Duality gap: 5.630e+00, tolerance: 4.198e-03\n",
      "  model = cd_fast.enet_coordinate_descent(\n",
      "C:\\Users\\MEI-KUEI LU\\anaconda3\\envs\\test\\lib\\site-packages\\sklearn\\linear_model\\_coordinate_descent.py:634: ConvergenceWarning: Objective did not converge. You might want to increase the number of iterations, check the scale of the features or consider increasing regularisation. Duality gap: 4.692e+00, tolerance: 4.140e-03\n",
      "  model = cd_fast.enet_coordinate_descent(\n",
      "C:\\Users\\MEI-KUEI LU\\anaconda3\\envs\\test\\lib\\site-packages\\sklearn\\linear_model\\_coordinate_descent.py:634: ConvergenceWarning: Objective did not converge. You might want to increase the number of iterations, check the scale of the features or consider increasing regularisation. Duality gap: 6.058e+00, tolerance: 4.199e-03\n",
      "  model = cd_fast.enet_coordinate_descent(\n",
      "C:\\Users\\MEI-KUEI LU\\anaconda3\\envs\\test\\lib\\site-packages\\sklearn\\linear_model\\_coordinate_descent.py:634: ConvergenceWarning: Objective did not converge. You might want to increase the number of iterations, check the scale of the features or consider increasing regularisation. Duality gap: 5.939e+00, tolerance: 4.171e-03\n",
      "  model = cd_fast.enet_coordinate_descent(\n",
      "C:\\Users\\MEI-KUEI LU\\anaconda3\\envs\\test\\lib\\site-packages\\sklearn\\linear_model\\_coordinate_descent.py:634: ConvergenceWarning: Objective did not converge. You might want to increase the number of iterations, check the scale of the features or consider increasing regularisation. Duality gap: 5.260e+00, tolerance: 4.162e-03\n",
      "  model = cd_fast.enet_coordinate_descent(\n",
      "C:\\Users\\MEI-KUEI LU\\anaconda3\\envs\\test\\lib\\site-packages\\sklearn\\linear_model\\_coordinate_descent.py:634: ConvergenceWarning: Objective did not converge. You might want to increase the number of iterations, check the scale of the features or consider increasing regularisation. Duality gap: 8.218e+00, tolerance: 4.198e-03\n",
      "  model = cd_fast.enet_coordinate_descent(\n",
      "C:\\Users\\MEI-KUEI LU\\anaconda3\\envs\\test\\lib\\site-packages\\sklearn\\linear_model\\_coordinate_descent.py:634: ConvergenceWarning: Objective did not converge. You might want to increase the number of iterations, check the scale of the features or consider increasing regularisation. Duality gap: 1.516e+00, tolerance: 4.140e-03\n",
      "  model = cd_fast.enet_coordinate_descent(\n",
      "C:\\Users\\MEI-KUEI LU\\anaconda3\\envs\\test\\lib\\site-packages\\sklearn\\linear_model\\_coordinate_descent.py:634: ConvergenceWarning: Objective did not converge. You might want to increase the number of iterations, check the scale of the features or consider increasing regularisation. Duality gap: 8.199e-01, tolerance: 4.199e-03\n",
      "  model = cd_fast.enet_coordinate_descent(\n",
      "C:\\Users\\MEI-KUEI LU\\anaconda3\\envs\\test\\lib\\site-packages\\sklearn\\linear_model\\_coordinate_descent.py:634: ConvergenceWarning: Objective did not converge. You might want to increase the number of iterations, check the scale of the features or consider increasing regularisation. Duality gap: 7.548e-01, tolerance: 4.171e-03\n",
      "  model = cd_fast.enet_coordinate_descent(\n",
      "C:\\Users\\MEI-KUEI LU\\anaconda3\\envs\\test\\lib\\site-packages\\sklearn\\linear_model\\_coordinate_descent.py:634: ConvergenceWarning: Objective did not converge. You might want to increase the number of iterations, check the scale of the features or consider increasing regularisation. Duality gap: 1.198e-02, tolerance: 4.198e-03\n",
      "  model = cd_fast.enet_coordinate_descent(\n",
      "C:\\Users\\MEI-KUEI LU\\anaconda3\\envs\\test\\lib\\site-packages\\sklearn\\linear_model\\_coordinate_descent.py:634: ConvergenceWarning: Objective did not converge. You might want to increase the number of iterations, check the scale of the features or consider increasing regularisation. Duality gap: 7.442e+00, tolerance: 5.227e-03\n",
      "  model = cd_fast.enet_coordinate_descent(\n",
      "C:\\Users\\MEI-KUEI LU\\anaconda3\\envs\\test\\lib\\site-packages\\sklearn\\linear_model\\_coordinate_descent.py:634: ConvergenceWarning: Objective did not converge. You might want to increase the number of iterations, check the scale of the features or consider increasing regularisation. Duality gap: 4.203e+00, tolerance: 4.179e-03\n",
      "  model = cd_fast.enet_coordinate_descent(\n",
      "C:\\Users\\MEI-KUEI LU\\anaconda3\\envs\\test\\lib\\site-packages\\sklearn\\linear_model\\_coordinate_descent.py:634: ConvergenceWarning: Objective did not converge. You might want to increase the number of iterations, check the scale of the features or consider increasing regularisation. Duality gap: 4.375e+00, tolerance: 4.224e-03\n",
      "  model = cd_fast.enet_coordinate_descent(\n",
      "C:\\Users\\MEI-KUEI LU\\anaconda3\\envs\\test\\lib\\site-packages\\sklearn\\linear_model\\_coordinate_descent.py:634: ConvergenceWarning: Objective did not converge. You might want to increase the number of iterations, check the scale of the features or consider increasing regularisation. Duality gap: 3.414e+00, tolerance: 4.147e-03\n",
      "  model = cd_fast.enet_coordinate_descent(\n",
      "C:\\Users\\MEI-KUEI LU\\anaconda3\\envs\\test\\lib\\site-packages\\sklearn\\linear_model\\_coordinate_descent.py:634: ConvergenceWarning: Objective did not converge. You might want to increase the number of iterations, check the scale of the features or consider increasing regularisation. Duality gap: 4.400e+00, tolerance: 4.218e-03\n",
      "  model = cd_fast.enet_coordinate_descent(\n",
      "C:\\Users\\MEI-KUEI LU\\anaconda3\\envs\\test\\lib\\site-packages\\sklearn\\linear_model\\_coordinate_descent.py:634: ConvergenceWarning: Objective did not converge. You might want to increase the number of iterations, check the scale of the features or consider increasing regularisation. Duality gap: 4.403e+00, tolerance: 4.192e-03\n",
      "  model = cd_fast.enet_coordinate_descent(\n",
      "C:\\Users\\MEI-KUEI LU\\anaconda3\\envs\\test\\lib\\site-packages\\sklearn\\linear_model\\_coordinate_descent.py:634: ConvergenceWarning: Objective did not converge. You might want to increase the number of iterations, check the scale of the features or consider increasing regularisation. Duality gap: 5.452e+00, tolerance: 4.179e-03\n",
      "  model = cd_fast.enet_coordinate_descent(\n"
     ]
    },
    {
     "name": "stdout",
     "output_type": "stream",
     "text": [
      "{'ridge_reg': 0.5627471264367816, 'lasso_reg': 0.5656075533661741}\n"
     ]
    },
    {
     "name": "stderr",
     "output_type": "stream",
     "text": [
      "C:\\Users\\MEI-KUEI LU\\anaconda3\\envs\\test\\lib\\site-packages\\sklearn\\linear_model\\_coordinate_descent.py:634: ConvergenceWarning: Objective did not converge. You might want to increase the number of iterations, check the scale of the features or consider increasing regularisation. Duality gap: 4.864e+00, tolerance: 4.224e-03\n",
      "  model = cd_fast.enet_coordinate_descent(\n",
      "C:\\Users\\MEI-KUEI LU\\anaconda3\\envs\\test\\lib\\site-packages\\sklearn\\linear_model\\_coordinate_descent.py:634: ConvergenceWarning: Objective did not converge. You might want to increase the number of iterations, check the scale of the features or consider increasing regularisation. Duality gap: 4.570e+00, tolerance: 4.147e-03\n",
      "  model = cd_fast.enet_coordinate_descent(\n",
      "C:\\Users\\MEI-KUEI LU\\anaconda3\\envs\\test\\lib\\site-packages\\sklearn\\linear_model\\_coordinate_descent.py:634: ConvergenceWarning: Objective did not converge. You might want to increase the number of iterations, check the scale of the features or consider increasing regularisation. Duality gap: 5.474e+00, tolerance: 4.218e-03\n",
      "  model = cd_fast.enet_coordinate_descent(\n",
      "C:\\Users\\MEI-KUEI LU\\anaconda3\\envs\\test\\lib\\site-packages\\sklearn\\linear_model\\_coordinate_descent.py:634: ConvergenceWarning: Objective did not converge. You might want to increase the number of iterations, check the scale of the features or consider increasing regularisation. Duality gap: 5.443e+00, tolerance: 4.192e-03\n",
      "  model = cd_fast.enet_coordinate_descent(\n",
      "C:\\Users\\MEI-KUEI LU\\anaconda3\\envs\\test\\lib\\site-packages\\sklearn\\linear_model\\_coordinate_descent.py:634: ConvergenceWarning: Objective did not converge. You might want to increase the number of iterations, check the scale of the features or consider increasing regularisation. Duality gap: 8.415e+00, tolerance: 4.179e-03\n",
      "  model = cd_fast.enet_coordinate_descent(\n",
      "C:\\Users\\MEI-KUEI LU\\anaconda3\\envs\\test\\lib\\site-packages\\sklearn\\linear_model\\_coordinate_descent.py:634: ConvergenceWarning: Objective did not converge. You might want to increase the number of iterations, check the scale of the features or consider increasing regularisation. Duality gap: 1.021e+01, tolerance: 4.224e-03\n",
      "  model = cd_fast.enet_coordinate_descent(\n",
      "C:\\Users\\MEI-KUEI LU\\anaconda3\\envs\\test\\lib\\site-packages\\sklearn\\linear_model\\_coordinate_descent.py:634: ConvergenceWarning: Objective did not converge. You might want to increase the number of iterations, check the scale of the features or consider increasing regularisation. Duality gap: 7.432e+00, tolerance: 4.147e-03\n",
      "  model = cd_fast.enet_coordinate_descent(\n",
      "C:\\Users\\MEI-KUEI LU\\anaconda3\\envs\\test\\lib\\site-packages\\sklearn\\linear_model\\_coordinate_descent.py:634: ConvergenceWarning: Objective did not converge. You might want to increase the number of iterations, check the scale of the features or consider increasing regularisation. Duality gap: 5.302e+00, tolerance: 4.218e-03\n",
      "  model = cd_fast.enet_coordinate_descent(\n",
      "C:\\Users\\MEI-KUEI LU\\anaconda3\\envs\\test\\lib\\site-packages\\sklearn\\linear_model\\_coordinate_descent.py:634: ConvergenceWarning: Objective did not converge. You might want to increase the number of iterations, check the scale of the features or consider increasing regularisation. Duality gap: 4.651e+00, tolerance: 4.192e-03\n",
      "  model = cd_fast.enet_coordinate_descent(\n",
      "C:\\Users\\MEI-KUEI LU\\anaconda3\\envs\\test\\lib\\site-packages\\sklearn\\linear_model\\_coordinate_descent.py:634: ConvergenceWarning: Objective did not converge. You might want to increase the number of iterations, check the scale of the features or consider increasing regularisation. Duality gap: 5.134e-03, tolerance: 4.179e-03\n",
      "  model = cd_fast.enet_coordinate_descent(\n",
      "C:\\Users\\MEI-KUEI LU\\anaconda3\\envs\\test\\lib\\site-packages\\sklearn\\linear_model\\_coordinate_descent.py:634: ConvergenceWarning: Objective did not converge. You might want to increase the number of iterations, check the scale of the features or consider increasing regularisation. Duality gap: 7.371e-02, tolerance: 4.224e-03\n",
      "  model = cd_fast.enet_coordinate_descent(\n",
      "C:\\Users\\MEI-KUEI LU\\anaconda3\\envs\\test\\lib\\site-packages\\sklearn\\linear_model\\_coordinate_descent.py:634: ConvergenceWarning: Objective did not converge. You might want to increase the number of iterations, check the scale of the features or consider increasing regularisation. Duality gap: 2.201e-01, tolerance: 4.218e-03\n",
      "  model = cd_fast.enet_coordinate_descent(\n",
      "C:\\Users\\MEI-KUEI LU\\anaconda3\\envs\\test\\lib\\site-packages\\sklearn\\linear_model\\_coordinate_descent.py:634: ConvergenceWarning: Objective did not converge. You might want to increase the number of iterations, check the scale of the features or consider increasing regularisation. Duality gap: 6.692e+00, tolerance: 5.248e-03\n",
      "  model = cd_fast.enet_coordinate_descent(\n"
     ]
    },
    {
     "name": "stdout",
     "output_type": "stream",
     "text": [
      "{'ridge_reg': 0.7389376026272578, 'lasso_reg': 0.7415004105090313}\n"
     ]
    },
    {
     "name": "stderr",
     "output_type": "stream",
     "text": [
      "C:\\Users\\MEI-KUEI LU\\anaconda3\\envs\\test\\lib\\site-packages\\sklearn\\linear_model\\_coordinate_descent.py:634: ConvergenceWarning: Objective did not converge. You might want to increase the number of iterations, check the scale of the features or consider increasing regularisation. Duality gap: 5.176e+00, tolerance: 4.152e-03\n",
      "  model = cd_fast.enet_coordinate_descent(\n",
      "C:\\Users\\MEI-KUEI LU\\anaconda3\\envs\\test\\lib\\site-packages\\sklearn\\linear_model\\_coordinate_descent.py:634: ConvergenceWarning: Objective did not converge. You might want to increase the number of iterations, check the scale of the features or consider increasing regularisation. Duality gap: 4.084e+00, tolerance: 4.224e-03\n",
      "  model = cd_fast.enet_coordinate_descent(\n",
      "C:\\Users\\MEI-KUEI LU\\anaconda3\\envs\\test\\lib\\site-packages\\sklearn\\linear_model\\_coordinate_descent.py:634: ConvergenceWarning: Objective did not converge. You might want to increase the number of iterations, check the scale of the features or consider increasing regularisation. Duality gap: 4.713e+00, tolerance: 4.172e-03\n",
      "  model = cd_fast.enet_coordinate_descent(\n",
      "C:\\Users\\MEI-KUEI LU\\anaconda3\\envs\\test\\lib\\site-packages\\sklearn\\linear_model\\_coordinate_descent.py:634: ConvergenceWarning: Objective did not converge. You might want to increase the number of iterations, check the scale of the features or consider increasing regularisation. Duality gap: 4.909e+00, tolerance: 4.213e-03\n",
      "  model = cd_fast.enet_coordinate_descent(\n",
      "C:\\Users\\MEI-KUEI LU\\anaconda3\\envs\\test\\lib\\site-packages\\sklearn\\linear_model\\_coordinate_descent.py:634: ConvergenceWarning: Objective did not converge. You might want to increase the number of iterations, check the scale of the features or consider increasing regularisation. Duality gap: 5.301e+00, tolerance: 4.207e-03\n",
      "  model = cd_fast.enet_coordinate_descent(\n",
      "C:\\Users\\MEI-KUEI LU\\anaconda3\\envs\\test\\lib\\site-packages\\sklearn\\linear_model\\_coordinate_descent.py:634: ConvergenceWarning: Objective did not converge. You might want to increase the number of iterations, check the scale of the features or consider increasing regularisation. Duality gap: 4.783e+00, tolerance: 4.152e-03\n",
      "  model = cd_fast.enet_coordinate_descent(\n",
      "C:\\Users\\MEI-KUEI LU\\anaconda3\\envs\\test\\lib\\site-packages\\sklearn\\linear_model\\_coordinate_descent.py:634: ConvergenceWarning: Objective did not converge. You might want to increase the number of iterations, check the scale of the features or consider increasing regularisation. Duality gap: 5.671e+00, tolerance: 4.172e-03\n",
      "  model = cd_fast.enet_coordinate_descent(\n",
      "C:\\Users\\MEI-KUEI LU\\anaconda3\\envs\\test\\lib\\site-packages\\sklearn\\linear_model\\_coordinate_descent.py:634: ConvergenceWarning: Objective did not converge. You might want to increase the number of iterations, check the scale of the features or consider increasing regularisation. Duality gap: 5.216e+00, tolerance: 4.213e-03\n",
      "  model = cd_fast.enet_coordinate_descent(\n",
      "C:\\Users\\MEI-KUEI LU\\anaconda3\\envs\\test\\lib\\site-packages\\sklearn\\linear_model\\_coordinate_descent.py:634: ConvergenceWarning: Objective did not converge. You might want to increase the number of iterations, check the scale of the features or consider increasing regularisation. Duality gap: 5.783e+00, tolerance: 4.207e-03\n",
      "  model = cd_fast.enet_coordinate_descent(\n",
      "C:\\Users\\MEI-KUEI LU\\anaconda3\\envs\\test\\lib\\site-packages\\sklearn\\linear_model\\_coordinate_descent.py:634: ConvergenceWarning: Objective did not converge. You might want to increase the number of iterations, check the scale of the features or consider increasing regularisation. Duality gap: 8.889e-01, tolerance: 4.152e-03\n",
      "  model = cd_fast.enet_coordinate_descent(\n",
      "C:\\Users\\MEI-KUEI LU\\anaconda3\\envs\\test\\lib\\site-packages\\sklearn\\linear_model\\_coordinate_descent.py:634: ConvergenceWarning: Objective did not converge. You might want to increase the number of iterations, check the scale of the features or consider increasing regularisation. Duality gap: 3.144e+00, tolerance: 4.224e-03\n",
      "  model = cd_fast.enet_coordinate_descent(\n",
      "C:\\Users\\MEI-KUEI LU\\anaconda3\\envs\\test\\lib\\site-packages\\sklearn\\linear_model\\_coordinate_descent.py:634: ConvergenceWarning: Objective did not converge. You might want to increase the number of iterations, check the scale of the features or consider increasing regularisation. Duality gap: 4.043e+00, tolerance: 4.172e-03\n",
      "  model = cd_fast.enet_coordinate_descent(\n",
      "C:\\Users\\MEI-KUEI LU\\anaconda3\\envs\\test\\lib\\site-packages\\sklearn\\linear_model\\_coordinate_descent.py:634: ConvergenceWarning: Objective did not converge. You might want to increase the number of iterations, check the scale of the features or consider increasing regularisation. Duality gap: 6.219e+00, tolerance: 4.213e-03\n",
      "  model = cd_fast.enet_coordinate_descent(\n",
      "C:\\Users\\MEI-KUEI LU\\anaconda3\\envs\\test\\lib\\site-packages\\sklearn\\linear_model\\_coordinate_descent.py:634: ConvergenceWarning: Objective did not converge. You might want to increase the number of iterations, check the scale of the features or consider increasing regularisation. Duality gap: 5.591e+00, tolerance: 4.207e-03\n",
      "  model = cd_fast.enet_coordinate_descent(\n",
      "C:\\Users\\MEI-KUEI LU\\anaconda3\\envs\\test\\lib\\site-packages\\sklearn\\linear_model\\_coordinate_descent.py:634: ConvergenceWarning: Objective did not converge. You might want to increase the number of iterations, check the scale of the features or consider increasing regularisation. Duality gap: 2.696e-02, tolerance: 4.224e-03\n",
      "  model = cd_fast.enet_coordinate_descent(\n"
     ]
    },
    {
     "name": "stdout",
     "output_type": "stream",
     "text": [
      "{'ridge_reg': 0.9201876026272579, 'lasso_reg': 0.9260242200328408}\n"
     ]
    },
    {
     "name": "stderr",
     "output_type": "stream",
     "text": [
      "C:\\Users\\MEI-KUEI LU\\anaconda3\\envs\\test\\lib\\site-packages\\sklearn\\linear_model\\_coordinate_descent.py:634: ConvergenceWarning: Objective did not converge. You might want to increase the number of iterations, check the scale of the features or consider increasing regularisation. Duality gap: 6.818e+00, tolerance: 5.248e-03\n",
      "  model = cd_fast.enet_coordinate_descent(\n"
     ]
    }
   ],
   "source": [
    "num_of_folds = 5\n",
    "\n",
    "auc_dict               = {'ridge_reg': 0,  'lasso_reg': 0}\n",
    "chosen_hyperparam_dict = {'ridge_reg': [], 'lasso_reg': []}\n",
    "\n",
    "for train_index, test_index in skf.split(X, y):\n",
    "    X_train, X_test = X.iloc[train_index], X.iloc[test_index]\n",
    "    y_train, y_test = y.iloc[train_index].values.ravel(), y.iloc[test_index].values.ravel()\n",
    "    \n",
    "    ridge_regressor = Ridge()\n",
    "    ridge_regressor = GridSearchCV(estimator=ridge_regressor, param_grid={'alpha':[1e-3, 1e-2, 1e-1, 1, 1e1, 1e2, 1e3]}, cv= 5)\n",
    "    ridge_regressor.fit(X_train, y_train)\n",
    "    chosen_hyperparam_dict['ridge_reg'].append(ridge_regressor.best_params_['alpha'])\n",
    "    \n",
    "    lasso_regressor = Lasso()\n",
    "    lasso_regressor = GridSearchCV(estimator=lasso_regressor, param_grid={'alpha':[1e-3, 1e-2, 1e-1, 1, 1e1, 1e2, 1e3, 1e4]}, cv= 5)\n",
    "    lasso_regressor.fit(X_train, y_train)\n",
    "    chosen_hyperparam_dict['lasso_reg'].append(lasso_regressor.best_params_['alpha'])\n",
    "    \n",
    "    ridge_pred = ridge_regressor.predict(X_test)\n",
    "    lasso_pred = lasso_regressor.predict(X_test)\n",
    "    \n",
    "    auc_dict['ridge_reg'] += roc_auc_score(y_test, ridge_pred)/num_of_folds\n",
    "    auc_dict['lasso_reg'] += roc_auc_score(y_test, lasso_pred)/num_of_folds\n",
    "    print(auc_dict)"
   ]
  },
  {
   "cell_type": "markdown",
   "id": "c08d1288",
   "metadata": {},
   "source": [
    "Please provide the coefficients for each feature for both models. Are they the same? Are they different? Why?\n",
    "\n",
    "**Ans**: 4 of the coefficients obtained by LASSO are exactly zero since LASSO regression imposes an L1 penalty, which shrinks some coefficients to zero and can be useful for feature selection and simplify the model. On the other hand, Ridge regression imposes an L2 penalty, which shrinks the coefficients towards zero, but none are completely eliminated. This can be useful for reducing the impact of multicollinearity in the data."
   ]
  },
  {
   "cell_type": "code",
   "execution_count": 31,
   "id": "dd661020",
   "metadata": {},
   "outputs": [],
   "source": [
    "# Select the most frequent chosen value for alpha \n",
    "def most_frequent(List): \n",
    "    return max(set(List), key = List.count)"
   ]
  },
  {
   "cell_type": "code",
   "execution_count": 32,
   "id": "bf580393",
   "metadata": {},
   "outputs": [
    {
     "name": "stdout",
     "output_type": "stream",
     "text": [
      "Coefficients for Ridge Regression model:\n",
      "[-4.27144896e-01  4.27144896e-01  5.66429725e-03 -5.66429725e-03\n",
      "  7.48326276e-04 -2.03450519e-03 -3.44430988e-03  1.04608127e-04\n",
      "  4.12240783e-04  9.42646573e-04 -2.62761341e-03 -9.51544421e-05\n",
      "  9.72186908e-04  1.33293176e-03 -9.14970965e-04 -6.42102480e-04\n",
      "  5.44283683e-05  3.89909909e-06 -3.15349134e-05 -3.89552142e-03\n",
      " -1.63194803e-05]\n",
      "\n",
      "Coefficients for Lasso Regression model:\n",
      "[-8.10560949e-01  7.67207138e-14  0.00000000e+00 -0.00000000e+00\n",
      "  6.92603538e-04 -1.68910115e-03 -2.59844063e-03 -2.89040391e-04\n",
      "  0.00000000e+00  1.14365047e-03 -4.87555898e-04 -8.77920245e-05\n",
      "  8.68828487e-04  9.92080881e-04 -8.30143787e-04 -5.14102667e-04\n",
      "  3.13483241e-05  8.11882908e-06 -5.36129371e-05 -2.75989814e-03\n",
      " -8.04022995e-06]\n"
     ]
    },
    {
     "name": "stderr",
     "output_type": "stream",
     "text": [
      "C:\\Users\\MEI-KUEI LU\\anaconda3\\envs\\test\\lib\\site-packages\\sklearn\\linear_model\\_coordinate_descent.py:634: ConvergenceWarning: Objective did not converge. You might want to increase the number of iterations, check the scale of the features or consider increasing regularisation. Duality gap: 9.321e+00, tolerance: 6.541e-03\n",
      "  model = cd_fast.enet_coordinate_descent(\n"
     ]
    }
   ],
   "source": [
    "ridge_regressor = Ridge(alpha = most_frequent(chosen_hyperparam_dict['ridge_reg']))\n",
    "ridge_regressor.fit(X, y.values.ravel())\n",
    "    \n",
    "lasso_regressor = Lasso(alpha = most_frequent(chosen_hyperparam_dict['lasso_reg']))\n",
    "lasso_regressor.fit(X, y.values.ravel())\n",
    "\n",
    "print(f\"Coefficients for Ridge Regression model:\\n{ridge_regressor.coef_}\\n\")\n",
    "print(f\"Coefficients for Lasso Regression model:\\n{lasso_regressor.coef_}\")"
   ]
  },
  {
   "cell_type": "markdown",
   "id": "a71d4f4b",
   "metadata": {},
   "source": [
    "Please plot the ROC curve for both models. What are the area under the curve measurements?\n",
    "\n",
    "**Ans**: AUC for both ridge and lasso models are 0.918. "
   ]
  },
  {
   "cell_type": "code",
   "execution_count": 33,
   "id": "c77c21fd",
   "metadata": {},
   "outputs": [
    {
     "data": {
      "image/png": "[encoded data removed]",
      "text/plain": [
       "<Figure size 640x480 with 1 Axes>"
      ]
     },
     "metadata": {},
     "output_type": "display_data"
    }
   ],
   "source": [
    "# Compute fpr, tpr, and thresholds for both models\n",
    "fpr_ridge, tpr_ridge, thresholds_ridge = roc_curve(y_test, ridge_pred)\n",
    "fpr_lasso, tpr_lasso, thresholds_lasso = roc_curve(y_test, ridge_pred)\n",
    "\n",
    "# Compute AUC for both models\n",
    "auc_ridge = auc(fpr_ridge, tpr_ridge)\n",
    "auc_lasso = auc(fpr_lasso, tpr_lasso)\n",
    "\n",
    "# Plot ROC curves\n",
    "plt.plot(fpr_ridge, tpr_ridge, label=f\"Ridge (AUC = {auc_ridge:.3f})\")\n",
    "plt.plot(fpr_lasso, tpr_lasso, label=f\"Lasso (AUC = {auc_lasso:.3f})\")\n",
    "plt.plot([0, 1], [0, 1], linestyle=\"--\", color=\"grey\")\n",
    "plt.xlabel(\"False Positive Rate\")\n",
    "plt.ylabel(\"True Positive Rate\")\n",
    "plt.title(\"ROC Curve\")\n",
    "plt.legend(fontsize=12)\n",
    "plt.show()"
   ]
  },
  {
   "cell_type": "markdown",
   "id": "565db9cf",
   "metadata": {},
   "source": [
    "How do these compare to the models from Problem 3? Please describe similarities and differences.\n",
    "\n",
    "**Ans**: The ROC curves and AUC values for the Ridge and LASSO logistic regression models are similar to that of the linear regression model (AUC > 0.9) with the AUC of logistic regression being 0.7. However, there are some differences in the coefficients of the features for each model.\n",
    "\n",
    "In the case of Ridge regression, the coefficients are shrunk towards zero, but they are not zeroed out completely. This means that all features still have some impact on the model's output, even if it's small.\n",
    "\n",
    "In the case of LASSO regression, the coefficients are forced to zero, meaning that some features may be completely excluded from the model. This can be a useful feature selection technique, as it allows for the identification of the most important features for the model's performance.\n",
    "\n",
    "Overall, Ridge, LASSO and linear regression model indicate excellent discrimination between classes while logistic model might not be suitable for the prediction of the features in this dataset. \n"
   ]
  }
 ],
 "metadata": {
  "kernelspec": {
   "display_name": "Python 3 (ipykernel)",
   "language": "python",
   "name": "python3"
  },
  "language_info": {
   "codemirror_mode": {
    "name": "ipython",
    "version": 3
   },
   "file_extension": ".py",
   "mimetype": "text/x-python",
   "name": "python",
   "nbconvert_exporter": "python",
   "pygments_lexer": "ipython3",
   "version": "3.8.15"
  }
 },
 "nbformat": 4,
 "nbformat_minor": 5
}
